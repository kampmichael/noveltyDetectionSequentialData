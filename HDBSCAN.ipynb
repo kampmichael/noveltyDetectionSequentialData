{
 "cells": [
  {
   "cell_type": "code",
   "execution_count": 8,
   "metadata": {},
   "outputs": [],
   "source": [
    "import json\n",
    "import numpy as np\n",
    "import hdbscan\n",
    "import pandas as pd\n",
    "from sklearn.metrics import accuracy_score, confusion_matrix, roc_auc_score\n",
    "import pickle"
   ]
  },
  {
   "cell_type": "code",
   "execution_count": 9,
   "metadata": {},
   "outputs": [
    {
     "name": "stdout",
     "output_type": "stream",
     "text": [
      "341 4164 1788\n"
     ]
    }
   ],
   "source": [
    "trainingJson = json.load(open(\"data/training_adfald.json\",'r'))\n",
    "testingJson  = json.load(open(\"data/testing_adfald.json\",'r'))\n",
    "vocabulary = open(\"data/adfald_vocabulary.txt\",'r').readlines()\n",
    "vocabulary = [v.replace('\\n','') for v in vocabulary]\n",
    "d = len(vocabulary)\n",
    "n = len(trainingJson)\n",
    "n_test = len(testingJson)\n",
    "print(d, n, n_test)"
   ]
  },
  {
   "cell_type": "code",
   "execution_count": 10,
   "metadata": {},
   "outputs": [
    {
     "name": "stdout",
     "output_type": "stream",
     "text": [
      "(4164, 341)\n"
     ]
    }
   ],
   "source": [
    "X = []\n",
    "for i in range(n):\n",
    "    data = trainingJson[i]['actionsQueue']\n",
    "    bagOfWords = [data.count(vocabulary[j]) for j in range(d)]\n",
    "    X.append(bagOfWords)\n",
    "X = np.array(X)\n",
    "print(X.shape)\n",
    "    "
   ]
  },
  {
   "cell_type": "code",
   "execution_count": 4,
   "metadata": {},
   "outputs": [
    {
     "name": "stdout",
     "output_type": "stream",
     "text": [
      "(1788, 341)\n",
      "(1788,)\n"
     ]
    }
   ],
   "source": [
    "X_test = []\n",
    "y_test = []\n",
    "for i in range(n_test):\n",
    "    data = testingJson[i]['actionsQueue']\n",
    "    bagOfWords = [data.count(vocabulary[j]) for j in range(d)]\n",
    "    X_test.append(bagOfWords)\n",
    "    y_test.append(int(testingJson[i]['label']))\n",
    "X_test = np.array(X_test)\n",
    "y_test = np.array(y_test)\n",
    "print(X_test.shape)\n",
    "print(y_test.shape)"
   ]
  },
  {
   "cell_type": "code",
   "execution_count": 7,
   "metadata": {},
   "outputs": [],
   "source": [
    "pickle.dump(X, open('data/X.pckl', 'wb'))\n",
    "pickle.dump(X_test, open('data/X_test.pckl', 'wb'))\n",
    "pickle.dump(y_test, open('data/y_test.pckl', 'wb'))"
   ]
  },
  {
   "cell_type": "code",
   "execution_count": null,
   "metadata": {},
   "outputs": [],
   "source": [
    "clusterer = hdbscan.HDBSCAN(min_cluster_size=10, min_samples=10, prediction_data=True)"
   ]
  },
  {
   "cell_type": "code",
   "execution_count": null,
   "metadata": {},
   "outputs": [],
   "source": [
    "clusterer.fit(X)"
   ]
  },
  {
   "cell_type": "code",
   "execution_count": null,
   "metadata": {},
   "outputs": [],
   "source": [
    "clusterer.labels_.tolist().count(-1)"
   ]
  },
  {
   "cell_type": "code",
   "execution_count": null,
   "metadata": {},
   "outputs": [],
   "source": [
    "y_pred, strengths = hdbscan.approximate_predict(clusterer, X_test)"
   ]
  },
  {
   "cell_type": "code",
   "execution_count": null,
   "metadata": {},
   "outputs": [],
   "source": [
    "accuracy_score(y_test, y_pred)"
   ]
  },
  {
   "cell_type": "code",
   "execution_count": null,
   "metadata": {},
   "outputs": [],
   "source": [
    "confusion_matrix(y_test, y_pred)"
   ]
  },
  {
   "cell_type": "code",
   "execution_count": 12,
   "metadata": {},
   "outputs": [
    {
     "name": "stdout",
     "output_type": "stream",
     "text": [
      "2 2 0.0011185682326621924\n",
      "2 10 0.0\n",
      "2 15 0.0\n",
      "2 50 0.0005592841163310962\n",
      "2 75 0.0011185682326621924\n",
      "2 100 0.0\n",
      "10 2 0.002796420581655481\n",
      "10 10 0.002796420581655481\n",
      "10 15 0.002796420581655481\n",
      "10 50 0.008389261744966443\n",
      "10 75 0.0\n",
      "10 100 0.0\n",
      "15 2 0.002796420581655481\n",
      "15 10 0.002796420581655481\n",
      "15 15 0.002796420581655481\n",
      "15 50 0.008389261744966443\n",
      "15 75 0.0\n",
      "15 100 0.11409395973154363\n",
      "50 2 0.008389261744966443\n",
      "50 10 0.008389261744966443\n",
      "50 15 0.008389261744966443\n",
      "50 50 0.008389261744966443\n",
      "50 75 0.3076062639821029\n",
      "50 100 0.12136465324384788\n",
      "75 2 0.21252796420581654\n",
      "75 10 0.31543624161073824\n",
      "75 15 0.31208053691275167\n",
      "75 50 0.31096196868008946\n",
      "75 75 0.3076062639821029\n",
      "75 100 0.12136465324384788\n",
      "100 2 0.2203579418344519\n",
      "100 10 0.1935123042505593\n",
      "100 15 0.18512304250559283\n",
      "100 50 0.14261744966442952\n",
      "100 75 0.12248322147651007\n",
      "100 100 0.12136465324384788\n",
      "Best params:  [75, 10]  with ACC:  0.31543624161073824\n"
     ]
    }
   ],
   "source": [
    "#Parameter Evaluation\n",
    "params = {}\n",
    "for minClusterSize in [2,10,15,50,75,100]:\n",
    "    for minSamples in [2,10,15,50,75,100]:\n",
    "        clusterer = hdbscan.HDBSCAN(min_cluster_size=minClusterSize, min_samples=minSamples, prediction_data=True)\n",
    "        clusterer.fit(X)\n",
    "        clusterer.labels_.tolist().count(-1)\n",
    "        y_pred, strengths = hdbscan.approximate_predict(clusterer, X_test)\n",
    "        acc = accuracy_score(y_test, y_pred)\n",
    "        print(minClusterSize, minSamples, acc)\n",
    "        params[acc] = [minClusterSize, minSamples]\n",
    "\n",
    "maxAcc = max(params.keys())\n",
    "bestParams = params[maxAcc]\n",
    "print(\"Best params: \", bestParams, \" with ACC: \",maxAcc)\n",
    "        "
   ]
  },
  {
   "cell_type": "code",
   "execution_count": 15,
   "metadata": {},
   "outputs": [
    {
     "name": "stdout",
     "output_type": "stream",
     "text": [
      "2 2 0.518875461192901\n",
      "2 10 0.5658450957891866\n",
      "2 15 0.561287197748195\n",
      "2 50 0.5451280791219195\n",
      "2 75 0.4808215794538241\n",
      "2 100 0.48195751622215477\n",
      "10 2 0.5532732474669768\n",
      "10 10 0.5419325333319611\n",
      "10 15 0.5577784009921115\n",
      "10 50 0.5236507695553508\n",
      "10 75 0.5029292503074618\n",
      "10 100 0.46738201952318964\n",
      "15 2 0.5488941661992559\n",
      "15 10 0.5571763416403801\n",
      "15 15 0.5578208538951182\n",
      "15 50 0.5231638476223801\n",
      "15 75 0.46330718406035004\n",
      "15 100 0.466607575656219\n",
      "50 2 0.5510470429623378\n",
      "50 10 0.5327318314439647\n",
      "50 15 0.5304245804881311\n",
      "50 50 0.5232448940735748\n",
      "50 75 0.46267360664426527\n",
      "50 100 0.46630718920615644\n",
      "75 2 0.5029646277266342\n",
      "75 10 0.4962789387288829\n",
      "75 15 0.4935625961622575\n",
      "75 50 0.46339530599537904\n",
      "75 75 0.46267360664426527\n",
      "75 100 0.46630718920615644\n",
      "100 2 0.5167245141072283\n",
      "100 10 0.497016718725075\n",
      "100 15 0.4966616580817462\n",
      "100 50 0.46989896209084403\n",
      "100 75 0.46286078535297664\n",
      "100 100 0.46630718920615644\n",
      "Best params:  [2, 10]  with AUC:  0.5658450957891866\n"
     ]
    }
   ],
   "source": [
    "#Parameter Evaluation with Strengths\n",
    "paramsAUC = {}\n",
    "for minClusterSize in [2,10,15,50,75,100]:\n",
    "    for minSamples in [2,10,15,50,75,100]:\n",
    "        clusterer = hdbscan.HDBSCAN(min_cluster_size=minClusterSize, min_samples=minSamples, prediction_data=True)\n",
    "        clusterer.fit(X)\n",
    "        labels, strengths = hdbscan.approximate_predict(clusterer, X_test)\n",
    "        maxStrength = max(strengths)\n",
    "        y_pred = np.array([maxStrength - s for s in strengths])\n",
    "        auc = roc_auc_score(y_test, y_pred)\n",
    "        print(minClusterSize, minSamples, auc)\n",
    "        paramsAUC[auc] = [minClusterSize, minSamples]\n",
    "\n",
    "maxAuc = max(paramsAUC.keys())\n",
    "bestParamsAuc = paramsAUC[maxAuc]\n",
    "print(\"Best params: \", bestParamsAuc, \" with AUC: \",maxAuc)\n"
   ]
  },
  {
   "cell_type": "code",
   "execution_count": 11,
   "metadata": {},
   "outputs": [
    {
     "name": "stdout",
     "output_type": "stream",
     "text": [
      "(5952, 341) (5952,)\n"
     ]
    },
    {
     "name": "stderr",
     "output_type": "stream",
     "text": [
      "C:\\Python36\\lib\\site-packages\\hdbscan-0.8.25-py3.6-win-amd64.egg\\hdbscan\\hdbscan_.py:1052: RuntimeWarning: invalid value encountered in double_scalars\n",
      "  self._outlier_scores = outlier_scores(self._condensed_tree)\n"
     ]
    },
    {
     "name": "stdout",
     "output_type": "stream",
     "text": [
      "2 2 0.6198315719436945\n"
     ]
    },
    {
     "name": "stderr",
     "output_type": "stream",
     "text": [
      "C:\\Python36\\lib\\site-packages\\hdbscan-0.8.25-py3.6-win-amd64.egg\\hdbscan\\hdbscan_.py:1052: RuntimeWarning: invalid value encountered in double_scalars\n",
      "  self._outlier_scores = outlier_scores(self._condensed_tree)\n"
     ]
    },
    {
     "name": "stdout",
     "output_type": "stream",
     "text": [
      "2 10 0.6932538914162766\n"
     ]
    },
    {
     "name": "stderr",
     "output_type": "stream",
     "text": [
      "C:\\Python36\\lib\\site-packages\\hdbscan-0.8.25-py3.6-win-amd64.egg\\hdbscan\\hdbscan_.py:1052: RuntimeWarning: invalid value encountered in double_scalars\n",
      "  self._outlier_scores = outlier_scores(self._condensed_tree)\n"
     ]
    },
    {
     "name": "stdout",
     "output_type": "stream",
     "text": [
      "2 15 0.6633711205569156\n",
      "2 50 0.669561647264087\n",
      "2 75 0.6773710010824796\n",
      "2 100 0.6864573666804337\n"
     ]
    },
    {
     "name": "stderr",
     "output_type": "stream",
     "text": [
      "C:\\Python36\\lib\\site-packages\\hdbscan-0.8.25-py3.6-win-amd64.egg\\hdbscan\\hdbscan_.py:1052: RuntimeWarning: invalid value encountered in double_scalars\n",
      "  self._outlier_scores = outlier_scores(self._condensed_tree)\n"
     ]
    },
    {
     "name": "stdout",
     "output_type": "stream",
     "text": [
      "10 2 0.585994428989442\n"
     ]
    },
    {
     "name": "stderr",
     "output_type": "stream",
     "text": [
      "C:\\Python36\\lib\\site-packages\\hdbscan-0.8.25-py3.6-win-amd64.egg\\hdbscan\\hdbscan_.py:1052: RuntimeWarning: invalid value encountered in double_scalars\n",
      "  self._outlier_scores = outlier_scores(self._condensed_tree)\n"
     ]
    },
    {
     "name": "stdout",
     "output_type": "stream",
     "text": [
      "10 10 0.6126991541003936\n"
     ]
    },
    {
     "name": "stderr",
     "output_type": "stream",
     "text": [
      "C:\\Python36\\lib\\site-packages\\hdbscan-0.8.25-py3.6-win-amd64.egg\\hdbscan\\hdbscan_.py:1052: RuntimeWarning: invalid value encountered in double_scalars\n",
      "  self._outlier_scores = outlier_scores(self._condensed_tree)\n"
     ]
    },
    {
     "name": "stdout",
     "output_type": "stream",
     "text": [
      "10 15 0.6030428387949973\n"
     ]
    },
    {
     "name": "stderr",
     "output_type": "stream",
     "text": [
      "C:\\Python36\\lib\\site-packages\\hdbscan-0.8.25-py3.6-win-amd64.egg\\hdbscan\\hdbscan_.py:1052: RuntimeWarning: invalid value encountered in double_scalars\n",
      "  self._outlier_scores = outlier_scores(self._condensed_tree)\n"
     ]
    },
    {
     "name": "stdout",
     "output_type": "stream",
     "text": [
      "10 50 0.6702115469982562\n"
     ]
    },
    {
     "name": "stderr",
     "output_type": "stream",
     "text": [
      "C:\\Python36\\lib\\site-packages\\hdbscan-0.8.25-py3.6-win-amd64.egg\\hdbscan\\hdbscan_.py:1052: RuntimeWarning: invalid value encountered in double_scalars\n",
      "  self._outlier_scores = outlier_scores(self._condensed_tree)\n"
     ]
    },
    {
     "name": "stdout",
     "output_type": "stream",
     "text": [
      "10 75 0.6537722250774781\n"
     ]
    },
    {
     "name": "stderr",
     "output_type": "stream",
     "text": [
      "C:\\Python36\\lib\\site-packages\\hdbscan-0.8.25-py3.6-win-amd64.egg\\hdbscan\\hdbscan_.py:1052: RuntimeWarning: invalid value encountered in double_scalars\n",
      "  self._outlier_scores = outlier_scores(self._condensed_tree)\n"
     ]
    },
    {
     "name": "stdout",
     "output_type": "stream",
     "text": [
      "10 100 0.6489221809440333\n"
     ]
    },
    {
     "name": "stderr",
     "output_type": "stream",
     "text": [
      "C:\\Python36\\lib\\site-packages\\hdbscan-0.8.25-py3.6-win-amd64.egg\\hdbscan\\hdbscan_.py:1052: RuntimeWarning: invalid value encountered in double_scalars\n",
      "  self._outlier_scores = outlier_scores(self._condensed_tree)\n"
     ]
    },
    {
     "name": "stdout",
     "output_type": "stream",
     "text": [
      "15 2 0.5605197240964488\n"
     ]
    },
    {
     "name": "stderr",
     "output_type": "stream",
     "text": [
      "C:\\Python36\\lib\\site-packages\\hdbscan-0.8.25-py3.6-win-amd64.egg\\hdbscan\\hdbscan_.py:1052: RuntimeWarning: invalid value encountered in double_scalars\n",
      "  self._outlier_scores = outlier_scores(self._condensed_tree)\n"
     ]
    },
    {
     "name": "stdout",
     "output_type": "stream",
     "text": [
      "15 10 0.5666443338733715\n"
     ]
    },
    {
     "name": "stderr",
     "output_type": "stream",
     "text": [
      "C:\\Python36\\lib\\site-packages\\hdbscan-0.8.25-py3.6-win-amd64.egg\\hdbscan\\hdbscan_.py:1052: RuntimeWarning: invalid value encountered in double_scalars\n",
      "  self._outlier_scores = outlier_scores(self._condensed_tree)\n"
     ]
    },
    {
     "name": "stdout",
     "output_type": "stream",
     "text": [
      "15 15 0.6007732107415757\n"
     ]
    },
    {
     "name": "stderr",
     "output_type": "stream",
     "text": [
      "C:\\Python36\\lib\\site-packages\\hdbscan-0.8.25-py3.6-win-amd64.egg\\hdbscan\\hdbscan_.py:1052: RuntimeWarning: invalid value encountered in double_scalars\n",
      "  self._outlier_scores = outlier_scores(self._condensed_tree)\n"
     ]
    },
    {
     "name": "stdout",
     "output_type": "stream",
     "text": [
      "15 50 0.6623788905150687\n"
     ]
    },
    {
     "name": "stderr",
     "output_type": "stream",
     "text": [
      "C:\\Python36\\lib\\site-packages\\hdbscan-0.8.25-py3.6-win-amd64.egg\\hdbscan\\hdbscan_.py:1052: RuntimeWarning: invalid value encountered in double_scalars\n",
      "  self._outlier_scores = outlier_scores(self._condensed_tree)\n"
     ]
    },
    {
     "name": "stdout",
     "output_type": "stream",
     "text": [
      "15 75 0.6450427378596979\n"
     ]
    },
    {
     "name": "stderr",
     "output_type": "stream",
     "text": [
      "C:\\Python36\\lib\\site-packages\\hdbscan-0.8.25-py3.6-win-amd64.egg\\hdbscan\\hdbscan_.py:1052: RuntimeWarning: invalid value encountered in double_scalars\n",
      "  self._outlier_scores = outlier_scores(self._condensed_tree)\n"
     ]
    },
    {
     "name": "stdout",
     "output_type": "stream",
     "text": [
      "15 100 0.6388389505200742\n"
     ]
    },
    {
     "name": "stderr",
     "output_type": "stream",
     "text": [
      "C:\\Python36\\lib\\site-packages\\hdbscan-0.8.25-py3.6-win-amd64.egg\\hdbscan\\hdbscan_.py:1052: RuntimeWarning: invalid value encountered in double_scalars\n",
      "  self._outlier_scores = outlier_scores(self._condensed_tree)\n"
     ]
    },
    {
     "name": "stdout",
     "output_type": "stream",
     "text": [
      "50 2 0.5952923209866116\n"
     ]
    },
    {
     "name": "stderr",
     "output_type": "stream",
     "text": [
      "C:\\Python36\\lib\\site-packages\\hdbscan-0.8.25-py3.6-win-amd64.egg\\hdbscan\\hdbscan_.py:1052: RuntimeWarning: invalid value encountered in double_scalars\n",
      "  self._outlier_scores = outlier_scores(self._condensed_tree)\n"
     ]
    },
    {
     "name": "stdout",
     "output_type": "stream",
     "text": [
      "50 10 0.6249469574701906\n"
     ]
    },
    {
     "name": "stderr",
     "output_type": "stream",
     "text": [
      "C:\\Python36\\lib\\site-packages\\hdbscan-0.8.25-py3.6-win-amd64.egg\\hdbscan\\hdbscan_.py:1052: RuntimeWarning: invalid value encountered in double_scalars\n",
      "  self._outlier_scores = outlier_scores(self._condensed_tree)\n"
     ]
    },
    {
     "name": "stdout",
     "output_type": "stream",
     "text": [
      "50 15 0.6481010516840231\n"
     ]
    },
    {
     "name": "stderr",
     "output_type": "stream",
     "text": [
      "C:\\Python36\\lib\\site-packages\\hdbscan-0.8.25-py3.6-win-amd64.egg\\hdbscan\\hdbscan_.py:1052: RuntimeWarning: invalid value encountered in double_scalars\n",
      "  self._outlier_scores = outlier_scores(self._condensed_tree)\n"
     ]
    },
    {
     "name": "stdout",
     "output_type": "stream",
     "text": [
      "50 50 0.6759658890185485\n"
     ]
    },
    {
     "name": "stderr",
     "output_type": "stream",
     "text": [
      "C:\\Python36\\lib\\site-packages\\hdbscan-0.8.25-py3.6-win-amd64.egg\\hdbscan\\hdbscan_.py:1052: RuntimeWarning: invalid value encountered in double_scalars\n",
      "  self._outlier_scores = outlier_scores(self._condensed_tree)\n"
     ]
    },
    {
     "name": "stdout",
     "output_type": "stream",
     "text": [
      "50 75 0.667772749323064\n"
     ]
    },
    {
     "name": "stderr",
     "output_type": "stream",
     "text": [
      "C:\\Python36\\lib\\site-packages\\hdbscan-0.8.25-py3.6-win-amd64.egg\\hdbscan\\hdbscan_.py:1052: RuntimeWarning: invalid value encountered in double_scalars\n",
      "  self._outlier_scores = outlier_scores(self._condensed_tree)\n"
     ]
    },
    {
     "name": "stdout",
     "output_type": "stream",
     "text": [
      "50 100 0.6497366155158154\n"
     ]
    },
    {
     "name": "stderr",
     "output_type": "stream",
     "text": [
      "C:\\Python36\\lib\\site-packages\\hdbscan-0.8.25-py3.6-win-amd64.egg\\hdbscan\\hdbscan_.py:1052: RuntimeWarning: invalid value encountered in double_scalars\n",
      "  self._outlier_scores = outlier_scores(self._condensed_tree)\n"
     ]
    },
    {
     "name": "stdout",
     "output_type": "stream",
     "text": [
      "75 2 0.5962983266369285\n"
     ]
    },
    {
     "name": "stderr",
     "output_type": "stream",
     "text": [
      "C:\\Python36\\lib\\site-packages\\hdbscan-0.8.25-py3.6-win-amd64.egg\\hdbscan\\hdbscan_.py:1052: RuntimeWarning: invalid value encountered in double_scalars\n",
      "  self._outlier_scores = outlier_scores(self._condensed_tree)\n"
     ]
    },
    {
     "name": "stdout",
     "output_type": "stream",
     "text": [
      "75 10 0.6445330403463111\n"
     ]
    },
    {
     "name": "stderr",
     "output_type": "stream",
     "text": [
      "C:\\Python36\\lib\\site-packages\\hdbscan-0.8.25-py3.6-win-amd64.egg\\hdbscan\\hdbscan_.py:1052: RuntimeWarning: invalid value encountered in double_scalars\n",
      "  self._outlier_scores = outlier_scores(self._condensed_tree)\n"
     ]
    },
    {
     "name": "stdout",
     "output_type": "stream",
     "text": [
      "75 15 0.6544501910046049\n"
     ]
    },
    {
     "name": "stderr",
     "output_type": "stream",
     "text": [
      "C:\\Python36\\lib\\site-packages\\hdbscan-0.8.25-py3.6-win-amd64.egg\\hdbscan\\hdbscan_.py:1052: RuntimeWarning: invalid value encountered in double_scalars\n",
      "  self._outlier_scores = outlier_scores(self._condensed_tree)\n"
     ]
    },
    {
     "name": "stdout",
     "output_type": "stream",
     "text": [
      "75 50 0.65743550697844\n"
     ]
    },
    {
     "name": "stderr",
     "output_type": "stream",
     "text": [
      "C:\\Python36\\lib\\site-packages\\hdbscan-0.8.25-py3.6-win-amd64.egg\\hdbscan\\hdbscan_.py:1052: RuntimeWarning: invalid value encountered in double_scalars\n",
      "  self._outlier_scores = outlier_scores(self._condensed_tree)\n"
     ]
    },
    {
     "name": "stdout",
     "output_type": "stream",
     "text": [
      "75 75 0.6694901943416495\n"
     ]
    },
    {
     "name": "stderr",
     "output_type": "stream",
     "text": [
      "C:\\Python36\\lib\\site-packages\\hdbscan-0.8.25-py3.6-win-amd64.egg\\hdbscan\\hdbscan_.py:1052: RuntimeWarning: invalid value encountered in double_scalars\n",
      "  self._outlier_scores = outlier_scores(self._condensed_tree)\n"
     ]
    },
    {
     "name": "stdout",
     "output_type": "stream",
     "text": [
      "75 100 0.6508188376167321\n"
     ]
    },
    {
     "name": "stderr",
     "output_type": "stream",
     "text": [
      "C:\\Python36\\lib\\site-packages\\hdbscan-0.8.25-py3.6-win-amd64.egg\\hdbscan\\hdbscan_.py:1052: RuntimeWarning: invalid value encountered in double_scalars\n",
      "  self._outlier_scores = outlier_scores(self._condensed_tree)\n"
     ]
    },
    {
     "name": "stdout",
     "output_type": "stream",
     "text": [
      "100 2 0.5662814045249912\n"
     ]
    },
    {
     "name": "stderr",
     "output_type": "stream",
     "text": [
      "C:\\Python36\\lib\\site-packages\\hdbscan-0.8.25-py3.6-win-amd64.egg\\hdbscan\\hdbscan_.py:1052: RuntimeWarning: invalid value encountered in double_scalars\n",
      "  self._outlier_scores = outlier_scores(self._condensed_tree)\n"
     ]
    },
    {
     "name": "stdout",
     "output_type": "stream",
     "text": [
      "100 10 0.575312410201057\n"
     ]
    },
    {
     "name": "stderr",
     "output_type": "stream",
     "text": [
      "C:\\Python36\\lib\\site-packages\\hdbscan-0.8.25-py3.6-win-amd64.egg\\hdbscan\\hdbscan_.py:1052: RuntimeWarning: invalid value encountered in double_scalars\n",
      "  self._outlier_scores = outlier_scores(self._condensed_tree)\n"
     ]
    },
    {
     "name": "stdout",
     "output_type": "stream",
     "text": [
      "100 15 0.5982016779978556\n"
     ]
    },
    {
     "name": "stderr",
     "output_type": "stream",
     "text": [
      "C:\\Python36\\lib\\site-packages\\hdbscan-0.8.25-py3.6-win-amd64.egg\\hdbscan\\hdbscan_.py:1052: RuntimeWarning: invalid value encountered in double_scalars\n",
      "  self._outlier_scores = outlier_scores(self._condensed_tree)\n"
     ]
    },
    {
     "name": "stdout",
     "output_type": "stream",
     "text": [
      "100 50 0.6121781271146204\n"
     ]
    },
    {
     "name": "stderr",
     "output_type": "stream",
     "text": [
      "C:\\Python36\\lib\\site-packages\\hdbscan-0.8.25-py3.6-win-amd64.egg\\hdbscan\\hdbscan_.py:1052: RuntimeWarning: invalid value encountered in double_scalars\n",
      "  self._outlier_scores = outlier_scores(self._condensed_tree)\n"
     ]
    },
    {
     "name": "stdout",
     "output_type": "stream",
     "text": [
      "100 75 0.6248238782019921\n",
      "100 100 0.6517254528956586\n",
      "Best params:  [2, 10]  with ACC:  0.6932538914162766\n"
     ]
    },
    {
     "name": "stderr",
     "output_type": "stream",
     "text": [
      "C:\\Python36\\lib\\site-packages\\hdbscan-0.8.25-py3.6-win-amd64.egg\\hdbscan\\hdbscan_.py:1052: RuntimeWarning: invalid value encountered in double_scalars\n",
      "  self._outlier_scores = outlier_scores(self._condensed_tree)\n"
     ]
    }
   ],
   "source": [
    "#Parameter Evaluation with Outlier Scores\n",
    "X_total = np.vstack((X,X_test))\n",
    "y_total = np.hstack((np.zeros((n,)),y_test))\n",
    "print(X_total.shape, y_total.shape)\n",
    "paramsAUCtotal = {}\n",
    "for minClusterSize in [2,10,15,50,75,100]:\n",
    "    for minSamples in [2,10,15,50,75,100]:\n",
    "        clusterer = hdbscan.HDBSCAN(min_cluster_size=minClusterSize, min_samples=minSamples)\n",
    "        clusterer.fit(X_total)\n",
    "        y_pred = np.nan_to_num(clusterer.outlier_scores_)\n",
    "        auc = roc_auc_score(y_total, y_pred)\n",
    "        print(minClusterSize, minSamples, auc)\n",
    "        paramsAUCtotal[auc] = [minClusterSize, minSamples]\n",
    "\n",
    "maxAuctotal = max(paramsAUCtotal.keys())\n",
    "bestParamsAuctotal = paramsAUCtotal[maxAuctotal]\n",
    "print(\"Best params: \", bestParamsAuctotal, \" with AUC: \",maxAuctotal)\n"
   ]
  },
  {
   "cell_type": "markdown",
   "metadata": {},
   "source": []
  },
  {
   "cell_type": "code",
   "execution_count": null,
   "metadata": {},
   "outputs": [],
   "source": []
  }
 ],
 "metadata": {
  "kernelspec": {
   "display_name": "Python 3",
   "language": "python",
   "name": "python3"
  },
  "language_info": {
   "codemirror_mode": {
    "name": "ipython",
    "version": 3
   },
   "file_extension": ".py",
   "mimetype": "text/x-python",
   "name": "python",
   "nbconvert_exporter": "python",
   "pygments_lexer": "ipython3",
   "version": "3.6.3"
  }
 },
 "nbformat": 4,
 "nbformat_minor": 2
}

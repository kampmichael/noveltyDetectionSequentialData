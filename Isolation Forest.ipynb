{
 "cells": [
  {
   "cell_type": "code",
   "execution_count": 8,
   "metadata": {},
   "outputs": [],
   "source": [
    "import json\n",
    "import numpy as np\n",
    "import hdbscan\n",
    "import pandas as pd\n",
    "from sklearn.metrics import accuracy_score, confusion_matrix, roc_auc_score\n",
    "from prefixspan import PrefixSpan\n",
    "import pickle\n",
    "import warnings\n",
    "warnings.filterwarnings('ignore')\n",
    "from sklearn.ensemble import IsolationForest"
   ]
  },
  {
   "cell_type": "code",
   "execution_count": 14,
   "metadata": {},
   "outputs": [],
   "source": [
    "X = pickle.load(open('data/X.pckl','rb'))\n",
    "X_test = pickle.load(open('data/X_test.pckl','rb'))\n",
    "y_test = pickle.load(open('data/y_test.pckl','rb'))\n",
    "Xpo = pickle.load(open('data/Xpo.pckl','rb'))\n",
    "Xpo_test = pickle.load(open('data/Xpo_test.pckl','rb'))\n",
    "Xpbow = pickle.load(open('data/Xpbow.pckl','rb'))\n",
    "Xpbow_test = pickle.load(open('data/Xpbow_test.pckl','rb'))"
   ]
  },
  {
   "cell_type": "code",
   "execution_count": 27,
   "metadata": {},
   "outputs": [
    {
     "ename": "TypeError",
     "evalue": "__init__() got an unexpected keyword argument 'behaviour'",
     "output_type": "error",
     "traceback": [
      "\u001b[1;31m---------------------------------------------------------------------------\u001b[0m",
      "\u001b[1;31mTypeError\u001b[0m                                 Traceback (most recent call last)",
      "\u001b[1;32m<ipython-input-27-0417cc26f5fa>\u001b[0m in \u001b[0;36m<module>\u001b[1;34m\u001b[0m\n\u001b[1;32m----> 1\u001b[1;33m \u001b[0misolFor\u001b[0m \u001b[1;33m=\u001b[0m \u001b[0mIsolationForest\u001b[0m\u001b[1;33m(\u001b[0m\u001b[0mbehaviour\u001b[0m\u001b[1;33m=\u001b[0m\u001b[1;34m'new'\u001b[0m\u001b[1;33m)\u001b[0m\u001b[1;33m\u001b[0m\u001b[0m\n\u001b[0m",
      "\u001b[1;31mTypeError\u001b[0m: __init__() got an unexpected keyword argument 'behaviour'"
     ]
    }
   ],
   "source": [
    "isolFor = IsolationForest()"
   ]
  },
  {
   "cell_type": "markdown",
   "metadata": {},
   "source": [
    "# Out of Sample Testing"
   ]
  },
  {
   "cell_type": "code",
   "execution_count": 38,
   "metadata": {},
   "outputs": [
    {
     "name": "stdout",
     "output_type": "stream",
     "text": [
      "1.0 10 100 0.355176423973283\n",
      "1.0 10 256 0.569108823514277\n",
      "1.0 10 500 0.5129121147720664\n",
      "1.0 100 100 0.550413465546253\n",
      "1.0 100 256 0.575324314449939\n",
      "1.0 100 500 0.5502996145790988\n",
      "1.0 200 100 0.5058970941631118\n",
      "1.0 200 256 0.5178778179722435\n",
      "1.0 200 500 0.5587966274384689\n",
      "0.5 10 100 0.640677985725533\n",
      "0.5 10 256 0.6170304322991977\n",
      "0.5 10 500 0.6253711412884071\n",
      "0.5 100 100 0.6106637832997999\n",
      "0.5 100 256 0.5479576294298961\n",
      "0.5 100 500 0.5040954186885398\n",
      "0.5 200 100 0.5603313642047414\n",
      "0.5 200 256 0.5584685822788719\n",
      "0.5 200 500 0.5196306082857775\n",
      "0.1 10 100 0.482584018154405\n",
      "0.1 10 256 0.5643360880550395\n",
      "0.1 10 500 0.6208145296990218\n",
      "0.1 100 100 0.5687312499678387\n",
      "0.1 100 256 0.4983134619441886\n",
      "0.1 100 500 0.506152454806955\n",
      "0.1 200 100 0.5012748735418071\n",
      "0.1 200 256 0.5485629049106431\n",
      "0.1 200 500 0.5316653630623723\n",
      "Best params:  [0.5, 10, 100]  with AUC:  0.640677985725533\n"
     ]
    }
   ],
   "source": [
    "#Bag of Words\n",
    "paramsAUCbow = {}\n",
    "for max_features in [1.,0.5,0.1]:\n",
    "    for n_estimators in [10,100,200]:\n",
    "        for max_samples in [100, 256, 500]:\n",
    "            isolFor = IsolationForest(max_features=max_features, n_estimators=n_estimators, max_samples=max_samples)\n",
    "            isolFor.fit(X)\n",
    "            y_pred = isolFor.decision_function(X_test)\n",
    "            auc = roc_auc_score(y_test, y_pred)\n",
    "            print(max_features, n_estimators, max_samples, auc)\n",
    "            paramsAUCbow[auc] = [max_features, n_estimators, max_samples]\n",
    "maxAucbow = max(paramsAUCbow.keys())\n",
    "bestParamsAucbow = paramsAUCbow[maxAucbow]\n",
    "print(\"Best params: \", bestParamsAucbow, \" with AUC: \",maxAucbow)"
   ]
  },
  {
   "cell_type": "code",
   "execution_count": 44,
   "metadata": {},
   "outputs": [
    {
     "name": "stdout",
     "output_type": "stream",
     "text": [
      "0.1 10 100 0.606040919452692\n",
      "0.1 10 256 0.397777268914698\n",
      "0.1 10 500 0.38076330319606033\n",
      "0.1 100 100 0.3284265924984434\n",
      "0.1 100 256 0.3065852171273021\n",
      "0.1 100 500 0.3014439132828701\n",
      "0.1 200 100 0.2898201797944765\n",
      "0.1 200 256 0.30235793714912035\n",
      "0.1 200 500 0.29602859524630404\n",
      "0.05 10 100 0.2999445539357701\n",
      "0.05 10 256 0.23534667297885586\n",
      "0.05 10 500 0.25629203480623464\n",
      "0.05 100 100 0.30301145456510215\n",
      "0.05 100 256 0.2974282545939187\n",
      "0.05 100 500 0.31679449707460905\n",
      "0.05 200 100 0.28570868046085846\n",
      "0.05 200 256 0.30846279324664366\n",
      "0.05 200 500 0.3006713990933089\n",
      "0.01 10 100 0.33784727761111083\n",
      "0.01 10 256 0.2390805987660356\n",
      "0.01 10 500 0.6952003777021917\n",
      "0.01 100 100 0.23921889231370896\n",
      "0.01 100 256 0.29779425007590066\n",
      "0.01 100 500 0.3000526158706962\n",
      "0.01 200 100 0.3061008680975439\n",
      "0.01 200 256 0.2653878908883206\n",
      "0.01 200 500 0.32206187317645485\n",
      "Best params:  [0.01, 10, 500]  with AUC:  0.6952003777021917\n"
     ]
    }
   ],
   "source": [
    "#Patterns Only\n",
    "paramsAUCpo = {}\n",
    "for max_features in [0.1,0.05,0.01]:\n",
    "    for n_estimators in [10,100,200]:\n",
    "        for max_samples in [100, 256, 500]:\n",
    "            isolFor = IsolationForest(max_features=max_features, n_estimators=n_estimators, max_samples=max_samples)\n",
    "            isolFor.fit(Xpo)\n",
    "            y_pred = isolFor.decision_function(Xpo_test)\n",
    "            auc = roc_auc_score(y_test, y_pred)\n",
    "            print(max_features, n_estimators, max_samples, auc)\n",
    "            paramsAUCpo[auc] = [max_features, n_estimators, max_samples]\n",
    "maxAucpo = max(paramsAUCpo.keys())\n",
    "bestParamsAucpo = paramsAUCpo[maxAucpo]\n",
    "print(\"Best params: \", bestParamsAucpo, \" with AUC: \",maxAucpo)"
   ]
  },
  {
   "cell_type": "code",
   "execution_count": 49,
   "metadata": {},
   "outputs": [
    {
     "name": "stdout",
     "output_type": "stream",
     "text": [
      "0.5 10 50 0.34011400534134706\n",
      "0.5 10 100 0.3540031801083707\n",
      "0.5 10 256 0.3611590671682113\n",
      "0.5 10 500 0.5938852382251085\n",
      "0.5 100 50 0.30961995646647766\n",
      "0.5 100 100 0.325524357674713\n",
      "0.5 100 256 0.3413695821090602\n",
      "0.5 100 500 0.33394225376029807\n",
      "0.5 200 50 0.30787166873356553\n",
      "0.5 200 100 0.31758695126406733\n",
      "0.5 200 256 0.316315937077079\n",
      "0.5 200 500 0.313952725476373\n",
      "0.5 300 50 0.3203373847982587\n",
      "0.5 300 100 0.31225846871092405\n",
      "0.5 300 256 0.3123961190327942\n",
      "0.5 300 500 0.29906333458547957\n",
      "0.3 10 50 0.38143611738613614\n",
      "0.3 10 100 0.3633814123180314\n",
      "0.3 10 256 0.343970787256925\n",
      "0.3 10 500 0.3130341990295009\n",
      "0.3 100 50 0.320275635121158\n",
      "0.3 100 100 0.3278373976627747\n",
      "0.3 100 256 0.2988671507155244\n",
      "0.3 100 500 0.35134794399304287\n",
      "0.3 200 50 0.3062404480968235\n",
      "0.3 200 100 0.35134601431563345\n",
      "0.3 200 256 0.2991019281336675\n",
      "0.3 200 500 0.2839333772442148\n",
      "0.3 300 50 0.32212555253096486\n",
      "0.3 300 100 0.31256078483839594\n",
      "0.3 300 256 0.30399301714068117\n",
      "0.3 300 500 0.28457017078931524\n",
      "0.2 10 50 0.3798550683620383\n",
      "0.2 10 100 0.30137894747675387\n",
      "0.2 10 256 0.31715534675016593\n",
      "0.2 10 500 0.3397647337302465\n",
      "0.2 100 50 0.28069151919643087\n",
      "0.2 100 100 0.29446812944790646\n",
      "0.2 100 256 0.29405131912747706\n",
      "0.2 100 500 0.28980281269779196\n",
      "0.2 200 50 0.3111083809749245\n",
      "0.2 200 100 0.2794500933963866\n",
      "0.2 200 256 0.3131512661256709\n",
      "0.2 200 500 0.2969445487899636\n",
      "0.2 300 50 0.28835619786654865\n",
      "0.2 300 100 0.3286607266907834\n",
      "0.2 300 256 0.3124257074197383\n",
      "0.2 300 500 0.31204877709910306\n",
      "0.1 10 50 0.34294870145574863\n",
      "0.1 10 100 0.4023904843747588\n",
      "0.1 10 256 0.502538812244961\n",
      "0.1 10 500 0.28403372046950337\n",
      "0.1 100 50 0.30512766745740555\n",
      "0.1 100 100 0.2704449321525423\n",
      "0.1 100 256 0.31221601580791736\n",
      "0.1 100 500 0.3215665893080434\n",
      "0.1 200 50 0.3046838416532447\n",
      "0.1 200 100 0.3131564119320959\n",
      "0.1 200 256 0.2777879979210942\n",
      "0.1 200 500 0.29019196430868666\n",
      "0.1 300 50 0.295139657186376\n",
      "0.1 300 100 0.3147117319240684\n",
      "0.1 300 256 0.2877618572244549\n",
      "0.1 300 500 0.28972626882721925\n",
      "0.05 10 50 0.3017250029588387\n",
      "0.05 10 100 0.500394940643123\n",
      "0.05 10 256 0.2512587928967288\n",
      "0.05 10 500 0.36807181487446805\n",
      "0.05 100 50 0.28918467270098236\n",
      "0.05 100 100 0.2874196610971888\n",
      "0.05 100 256 0.2754222134171757\n",
      "0.05 100 500 0.31238003838771594\n",
      "0.05 200 50 0.32229279123977916\n",
      "0.05 200 100 0.2995882068408351\n",
      "0.05 200 256 0.2946559513824209\n",
      "0.05 200 500 0.2999792881291391\n",
      "0.05 300 50 0.26218205348551193\n",
      "0.05 300 100 0.3271581512146676\n",
      "0.05 300 256 0.2883214636731795\n",
      "0.05 300 500 0.27332401084735997\n",
      "0.01 10 50 0.34765325497985416\n",
      "0.01 10 100 0.2532585819186654\n",
      "0.01 10 256 0.2291298955915876\n",
      "0.01 10 500 0.25944062511256455\n",
      "0.01 100 50 0.2812247533872271\n",
      "0.01 100 100 0.3223062989816449\n",
      "0.01 100 256 0.3293940041063535\n",
      "0.01 100 500 0.32540986348175555\n",
      "0.01 200 50 0.259394312854739\n",
      "0.01 200 100 0.33126514796766376\n",
      "0.01 200 256 0.27230321149778985\n",
      "0.01 200 500 0.29335792171170105\n",
      "0.01 300 50 0.299153386197918\n",
      "0.01 300 100 0.30381162746419804\n",
      "0.01 300 256 0.2714110573088462\n",
      "0.01 300 500 0.2503441258046755\n",
      "0.005 10 50 0.4663740846896821\n",
      "0.005 10 100 0.3833503573762562\n",
      "0.005 10 256 0.7153976679205283\n",
      "0.005 10 500 0.2814460230635044\n",
      "0.005 100 50 0.3718346858227888\n",
      "0.005 100 100 0.3272713589560188\n",
      "0.005 100 256 0.36022896265688276\n",
      "0.005 100 500 0.3016137248948969\n",
      "0.005 200 50 0.26884908893497245\n",
      "0.005 200 100 0.3522008614079955\n",
      "0.005 200 256 0.2435677419686826\n",
      "0.005 200 500 0.2687545347419121\n",
      "0.005 300 50 0.2517219154749837\n",
      "0.005 300 100 0.2931308630031956\n",
      "0.005 300 256 0.31310366741623913\n",
      "0.005 300 500 0.29380046106425567\n",
      "0.001 10 50 0.23652184652117755\n",
      "0.001 10 100 0.5010831922524739\n",
      "0.001 10 256 0.2542581548167321\n",
      "0.001 10 500 0.36235611038783944\n",
      "0.001 100 50 0.5964896595019888\n",
      "0.001 100 100 0.4349299913035871\n",
      "0.001 100 256 0.40754851209007215\n",
      "0.001 100 500 0.24690930001595202\n",
      "0.001 200 50 0.2874048669037168\n",
      "0.001 200 100 0.6006873510932266\n",
      "0.001 200 256 0.3172563332012576\n",
      "0.001 200 500 0.3624146439359245\n",
      "0.001 300 50 0.29141859591525887\n",
      "0.001 300 100 0.3648215948912434\n",
      "0.001 300 256 0.3201701460894444\n",
      "0.001 300 500 0.3821121477052276\n",
      "Best params:  [0.005, 10, 256]  with AUC:  0.7153976679205283\n"
     ]
    }
   ],
   "source": [
    "#Patterns and Bag of Words\n",
    "paramsAUCpobow = {}\n",
    "for max_features in [0.5,0.3,0.2,0.1,0.05,0.01,0.005,0.001]:\n",
    "    for n_estimators in [10,100,200,300]:\n",
    "        for max_samples in [50, 100, 256, 500]:\n",
    "            isolFor = IsolationForest(max_features=max_features, n_estimators=n_estimators, max_samples=max_samples)\n",
    "            isolFor.fit(Xpbow)\n",
    "            y_pred = isolFor.decision_function(Xpbow_test)\n",
    "            auc = roc_auc_score(y_test, y_pred)\n",
    "            print(max_features, n_estimators, max_samples, auc)\n",
    "            paramsAUCpobow[auc] = [max_features, n_estimators, max_samples]\n",
    "maxAucpobow = max(paramsAUCpobow.keys())\n",
    "bestParamsAucpobow = paramsAUCpobow[maxAucpobow]\n",
    "print(\"Best params: \", bestParamsAucpobow, \" with AUC: \",maxAucpobow)"
   ]
  },
  {
   "cell_type": "markdown",
   "metadata": {},
   "source": [
    "# In-Sample Testing"
   ]
  },
  {
   "cell_type": "code",
   "execution_count": 20,
   "metadata": {},
   "outputs": [],
   "source": [
    "n = len(X)\n",
    "y_total = np.hstack((np.zeros((n,)),y_test))\n",
    "X_total = np.vstack((X,X_test))\n",
    "Xpo_total = np.vstack((Xpo,Xpo_test))\n",
    "Xpbow_total = np.vstack((Xpbow,Xpbow_test))"
   ]
  },
  {
   "cell_type": "code",
   "execution_count": 23,
   "metadata": {},
   "outputs": [
    {
     "name": "stdout",
     "output_type": "stream",
     "text": [
      "0.555134877368761\n"
     ]
    }
   ],
   "source": [
    "#Bag of Words\n",
    "y_pred = isolFor.fit(X_total).predict(X_total)\n",
    "print(roc_auc_score(y_total, y_pred))"
   ]
  },
  {
   "cell_type": "code",
   "execution_count": 24,
   "metadata": {},
   "outputs": [
    {
     "name": "stdout",
     "output_type": "stream",
     "text": [
      "0.5059005952092812\n"
     ]
    }
   ],
   "source": [
    "#Patterns Only\n",
    "y_pred = isolFor.fit(Xpo_total).predict(Xpo_total)\n",
    "print(roc_auc_score(y_total, y_pred))"
   ]
  },
  {
   "cell_type": "code",
   "execution_count": 25,
   "metadata": {},
   "outputs": [
    {
     "name": "stdout",
     "output_type": "stream",
     "text": [
      "0.5059005952092812\n"
     ]
    }
   ],
   "source": [
    "#Patterns and Bag of Words\n",
    "y_pred = isolFor.fit(Xpbow_total).predict(Xpbow_total)\n",
    "print(roc_auc_score(y_total, y_pred))"
   ]
  },
  {
   "cell_type": "markdown",
   "metadata": {},
   "source": [
    "# More Error Measures"
   ]
  },
  {
   "cell_type": "code",
   "execution_count": 39,
   "metadata": {},
   "outputs": [],
   "source": [
    "def calcSensAndSpec(cm):\n",
    "    tn = cm[0,0]\n",
    "    fn = cm[1,0]\n",
    "    fp = cm[0,1]\n",
    "    tp = cm[1,1]\n",
    "    print(cm)\n",
    "    TPR = float(tp)/float(tp + fn)\n",
    "    TNR = float(tn)/float(tn + fp)\n",
    "    return TPR, TNR"
   ]
  },
  {
   "cell_type": "code",
   "execution_count": 43,
   "metadata": {},
   "outputs": [
    {
     "name": "stdout",
     "output_type": "stream",
     "text": [
      "[[885 157]\n",
      " [743   3]]\n",
      "(0.004021447721179625, 0.8493282149712092)\n"
     ]
    }
   ],
   "source": [
    "#Bag of Words\n",
    "isolFor = IsolationForest(max_features=0.5, n_estimators=10, max_samples=100)\n",
    "isolFor.fit(X)\n",
    "y_pred_bin = isolFor.predict(X_test)*-1\n",
    "y_pred_bin = np.where(y_pred_bin == 1, y_pred_bin, 0.)\n",
    "cm = confusion_matrix(y_test, y_pred_bin)\n",
    "print(calcSensAndSpec(cm))"
   ]
  },
  {
   "cell_type": "code",
   "execution_count": 46,
   "metadata": {},
   "outputs": [
    {
     "name": "stdout",
     "output_type": "stream",
     "text": [
      "[[1003   39]\n",
      " [ 679   67]]\n",
      "(0.08981233243967829, 0.9625719769673704)\n"
     ]
    }
   ],
   "source": [
    "#Patterns only\n",
    "isolFor = IsolationForest(max_features=0.1, n_estimators=10, max_samples=500)\n",
    "isolFor.fit(Xpo)\n",
    "y_pred_bin = isolFor.predict(Xpo_test)*-1\n",
    "y_pred_bin = np.where(y_pred_bin == 1, y_pred_bin, 0.)\n",
    "cm = confusion_matrix(y_test, y_pred_bin)\n",
    "print(calcSensAndSpec(cm))"
   ]
  },
  {
   "cell_type": "code",
   "execution_count": 50,
   "metadata": {},
   "outputs": [
    {
     "name": "stdout",
     "output_type": "stream",
     "text": [
      "[[976  66]\n",
      " [661  85]]\n",
      "(0.11394101876675604, 0.9366602687140115)\n"
     ]
    }
   ],
   "source": [
    "#Patterns and Bag of Words\n",
    "isolFor = IsolationForest(max_features=0.005, n_estimators=10, max_samples=256)\n",
    "isolFor.fit(Xpbow)\n",
    "y_pred_bin = isolFor.predict(Xpbow_test)*-1\n",
    "y_pred_bin = np.where(y_pred_bin == 1, y_pred_bin, 0.)\n",
    "cm = confusion_matrix(y_test, y_pred_bin)\n",
    "print(calcSensAndSpec(cm))"
   ]
  },
  {
   "cell_type": "code",
   "execution_count": null,
   "metadata": {},
   "outputs": [],
   "source": []
  }
 ],
 "metadata": {
  "kernelspec": {
   "display_name": "Python 3",
   "language": "python",
   "name": "python3"
  },
  "language_info": {
   "codemirror_mode": {
    "name": "ipython",
    "version": 3
   },
   "file_extension": ".py",
   "mimetype": "text/x-python",
   "name": "python",
   "nbconvert_exporter": "python",
   "pygments_lexer": "ipython3",
   "version": "3.6.3"
  }
 },
 "nbformat": 4,
 "nbformat_minor": 2
}

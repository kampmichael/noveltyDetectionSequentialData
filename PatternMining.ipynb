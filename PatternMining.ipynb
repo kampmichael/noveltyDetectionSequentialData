{
 "cells": [
  {
   "cell_type": "code",
   "execution_count": 33,
   "metadata": {},
   "outputs": [],
   "source": [
    "import json\n",
    "import numpy as np\n",
    "import hdbscan\n",
    "import pandas as pd\n",
    "from sklearn.metrics import accuracy_score, confusion_matrix, roc_auc_score\n",
    "from prefixspan import PrefixSpan\n",
    "import pickle\n",
    "import warnings\n",
    "warnings.filterwarnings('ignore')"
   ]
  },
  {
   "cell_type": "code",
   "execution_count": 2,
   "metadata": {},
   "outputs": [
    {
     "name": "stdout",
     "output_type": "stream",
     "text": [
      "341 4164 1788\n"
     ]
    }
   ],
   "source": [
    "trainingJson = json.load(open(\"data/training_adfald.json\",'r'))\n",
    "testingJson  = json.load(open(\"data/testing_adfald.json\",'r'))\n",
    "vocabulary = open(\"data/adfald_vocabulary.txt\",'r').readlines()\n",
    "vocabulary = [v.replace('\\n','') for v in vocabulary]\n",
    "d = len(vocabulary)\n",
    "n = len(trainingJson)\n",
    "n_test = len(testingJson)\n",
    "print(d, n, n_test)"
   ]
  },
  {
   "cell_type": "code",
   "execution_count": 78,
   "metadata": {},
   "outputs": [
    {
     "name": "stdout",
     "output_type": "stream",
     "text": [
      "(4164, 341)\n"
     ]
    }
   ],
   "source": [
    "X = []\n",
    "for i in range(n):\n",
    "    data = trainingJson[i]['actionsQueue']\n",
    "    bagOfWords = [data.count(vocabulary[j]) for j in range(d)]\n",
    "    X.append(bagOfWords)\n",
    "X = np.array(X)\n",
    "print(X.shape)"
   ]
  },
  {
   "cell_type": "code",
   "execution_count": 79,
   "metadata": {},
   "outputs": [
    {
     "name": "stdout",
     "output_type": "stream",
     "text": [
      "(1788, 341)\n",
      "(1788,)\n"
     ]
    }
   ],
   "source": [
    "X_test = []\n",
    "y_test = []\n",
    "for i in range(n_test):\n",
    "    data = testingJson[i]['actionsQueue']\n",
    "    bagOfWords = [data.count(vocabulary[j]) for j in range(d)]\n",
    "    X_test.append(bagOfWords)\n",
    "    y_test.append(int(testingJson[i]['label']))\n",
    "X_test = np.array(X_test)\n",
    "y_test = np.array(y_test)\n",
    "print(X_test.shape)\n",
    "print(y_test.shape)"
   ]
  },
  {
   "cell_type": "code",
   "execution_count": 3,
   "metadata": {},
   "outputs": [],
   "source": [
    "db = []\n",
    "for i in range(n):\n",
    "    data = trainingJson[i]['actionsQueue']\n",
    "    db.append(data)\n",
    "    \n",
    "ps = PrefixSpan(db)\n",
    "top_patterns = ps.topk(800)  "
   ]
  },
  {
   "cell_type": "code",
   "execution_count": 7,
   "metadata": {},
   "outputs": [],
   "source": [
    "with open(\"data/top_800.txt\", \"w\") as outp:\n",
    "    for tp in top_patterns:\n",
    "        outp.write(str(tp[0]) + \"\\t\")\n",
    "        for i in range(len(tp[1])):\n",
    "            outp.write(str(tp[1][i]))\n",
    "            if i < len(tp[1])-1:\n",
    "                outp.write(',')\n",
    "        outp.write('\\n')"
   ]
  },
  {
   "cell_type": "code",
   "execution_count": 10,
   "metadata": {},
   "outputs": [],
   "source": [
    "patterns = []\n",
    "for tp in top_patterns:\n",
    "    patterns.append(tp[1])"
   ]
  },
  {
   "cell_type": "markdown",
   "metadata": {},
   "source": [
    "# Calculate Feature Representation"
   ]
  },
  {
   "cell_type": "code",
   "execution_count": 19,
   "metadata": {},
   "outputs": [],
   "source": [
    "def patternIsPresent(sequence, pattern):\n",
    "    return any(sequence[i:i+len(pattern)] == pattern for i in range(len(sequence) - len(pattern) + 1))\n",
    "\n",
    "def getFeaturesForPattern(sequence, patterns):\n",
    "    x = np.zeros(len(patterns))\n",
    "    for i in range(len(patterns)):\n",
    "        if patternIsPresent(sequence, patterns[i]):\n",
    "            x[i] += 1.\n",
    "    return x\n",
    "\n",
    "def getFeatureRepresentationPatternsOnly(sequences, patterns):\n",
    "    X = []\n",
    "    for s in sequences:\n",
    "        x = getFeaturesForPattern(s, patterns)\n",
    "        X.append(x)\n",
    "    return np.array(X)\n",
    "    \n",
    "def getFeatureRepresentationPatternsAndBagOfWords(sequences, patterns, vocabulary):\n",
    "    X = []\n",
    "    d = len(vocabulary)\n",
    "    for s in sequences:\n",
    "        bagOfWords = [data.count(vocabulary[j]) for j in range(d)]\n",
    "        xPattern = getFeaturesForPattern(s, patterns)\n",
    "        x= np.hstack((bagOfWords,xPattern))\n",
    "        X.append(x)\n",
    "    return np.array(X)"
   ]
  },
  {
   "cell_type": "code",
   "execution_count": 12,
   "metadata": {},
   "outputs": [],
   "source": [
    "sequences = []\n",
    "for i in range(n):\n",
    "    sequences.append(trainingJson[i]['actionsQueue'])"
   ]
  },
  {
   "cell_type": "code",
   "execution_count": 13,
   "metadata": {},
   "outputs": [],
   "source": [
    "Xpo = getFeatureRepresentationPatternsOnly(sequences, patterns)"
   ]
  },
  {
   "cell_type": "code",
   "execution_count": 20,
   "metadata": {},
   "outputs": [],
   "source": [
    "Xpbow = getFeatureRepresentationPatternsAndBagOfWords(sequences, patterns, vocabulary)"
   ]
  },
  {
   "cell_type": "code",
   "execution_count": 21,
   "metadata": {},
   "outputs": [],
   "source": [
    "test_sequences = []\n",
    "y_test = []\n",
    "for i in range(n_test):\n",
    "    test_sequences.append(testingJson[i]['actionsQueue'])\n",
    "    y_test.append(int(testingJson[i]['label']))\n",
    "y_test = np.array(y_test)\n",
    "Xpo_test = getFeatureRepresentationPatternsOnly(test_sequences, patterns)\n",
    "Xpbow_test = getFeatureRepresentationPatternsAndBagOfWords(test_sequences, patterns, vocabulary)"
   ]
  },
  {
   "cell_type": "code",
   "execution_count": 22,
   "metadata": {},
   "outputs": [
    {
     "name": "stdout",
     "output_type": "stream",
     "text": [
      "(4164, 800)\n",
      "(4164, 1141)\n",
      "(1788, 800)\n",
      "(1788, 1141)\n",
      "(1788,)\n"
     ]
    }
   ],
   "source": [
    "print(Xpo.shape)\n",
    "print(Xpbow.shape)\n",
    "print(Xpo_test.shape)\n",
    "print(Xpbow_test.shape)\n",
    "print(y_test.shape)"
   ]
  },
  {
   "cell_type": "code",
   "execution_count": 28,
   "metadata": {},
   "outputs": [],
   "source": [
    "pickle.dump(Xpo,open('data/Xpo.pckl','wb'))\n",
    "pickle.dump(Xpbow,open('data/Xpbow.pckl','wb'))\n",
    "pickle.dump(Xpo_test,open('data/Xpo_test.pckl','wb'))\n",
    "pickle.dump(Xpbow_test,open('data/Xpbow_test.pckl','wb'))\n",
    "pickle.dump(y_test,open('data/y_test.pckl','wb'))"
   ]
  },
  {
   "cell_type": "markdown",
   "metadata": {},
   "source": [
    "# HDBSCAN"
   ]
  },
  {
   "cell_type": "markdown",
   "metadata": {},
   "source": [
    "# Outlier Scores after Training on all Data (train + test)"
   ]
  },
  {
   "cell_type": "code",
   "execution_count": 29,
   "metadata": {},
   "outputs": [
    {
     "name": "stdout",
     "output_type": "stream",
     "text": [
      "(5952, 800) (5952,)\n"
     ]
    },
    {
     "name": "stderr",
     "output_type": "stream",
     "text": [
      "C:\\Python36\\lib\\site-packages\\hdbscan-0.8.25-py3.6-win-amd64.egg\\hdbscan\\hdbscan_.py:1052: RuntimeWarning: invalid value encountered in double_scalars\n",
      "  self._outlier_scores = outlier_scores(self._condensed_tree)\n"
     ]
    },
    {
     "name": "stdout",
     "output_type": "stream",
     "text": [
      "2 2 0.49777131253997503\n"
     ]
    },
    {
     "name": "stderr",
     "output_type": "stream",
     "text": [
      "C:\\Python36\\lib\\site-packages\\hdbscan-0.8.25-py3.6-win-amd64.egg\\hdbscan\\hdbscan_.py:1052: RuntimeWarning: invalid value encountered in double_scalars\n",
      "  self._outlier_scores = outlier_scores(self._condensed_tree)\n"
     ]
    },
    {
     "name": "stdout",
     "output_type": "stream",
     "text": [
      "2 10 0.4887448129040631\n"
     ]
    },
    {
     "name": "stderr",
     "output_type": "stream",
     "text": [
      "C:\\Python36\\lib\\site-packages\\hdbscan-0.8.25-py3.6-win-amd64.egg\\hdbscan\\hdbscan_.py:1052: RuntimeWarning: invalid value encountered in double_scalars\n",
      "  self._outlier_scores = outlier_scores(self._condensed_tree)\n"
     ]
    },
    {
     "name": "stdout",
     "output_type": "stream",
     "text": [
      "2 15 0.48641673507264765\n"
     ]
    },
    {
     "name": "stderr",
     "output_type": "stream",
     "text": [
      "C:\\Python36\\lib\\site-packages\\hdbscan-0.8.25-py3.6-win-amd64.egg\\hdbscan\\hdbscan_.py:1052: RuntimeWarning: invalid value encountered in double_scalars\n",
      "  self._outlier_scores = outlier_scores(self._condensed_tree)\n"
     ]
    },
    {
     "name": "stdout",
     "output_type": "stream",
     "text": [
      "2 50 0.4869113695375206\n"
     ]
    },
    {
     "name": "stderr",
     "output_type": "stream",
     "text": [
      "C:\\Python36\\lib\\site-packages\\hdbscan-0.8.25-py3.6-win-amd64.egg\\hdbscan\\hdbscan_.py:1052: RuntimeWarning: invalid value encountered in double_scalars\n",
      "  self._outlier_scores = outlier_scores(self._condensed_tree)\n"
     ]
    },
    {
     "name": "stdout",
     "output_type": "stream",
     "text": [
      "2 75 0.4916974279007827\n"
     ]
    },
    {
     "name": "stderr",
     "output_type": "stream",
     "text": [
      "C:\\Python36\\lib\\site-packages\\hdbscan-0.8.25-py3.6-win-amd64.egg\\hdbscan\\hdbscan_.py:1052: RuntimeWarning: invalid value encountered in double_scalars\n",
      "  self._outlier_scores = outlier_scores(self._condensed_tree)\n"
     ]
    },
    {
     "name": "stdout",
     "output_type": "stream",
     "text": [
      "2 100 0.49359266838943316\n"
     ]
    },
    {
     "name": "stderr",
     "output_type": "stream",
     "text": [
      "C:\\Python36\\lib\\site-packages\\hdbscan-0.8.25-py3.6-win-amd64.egg\\hdbscan\\hdbscan_.py:1052: RuntimeWarning: invalid value encountered in double_scalars\n",
      "  self._outlier_scores = outlier_scores(self._condensed_tree)\n"
     ]
    },
    {
     "name": "stdout",
     "output_type": "stream",
     "text": [
      "10 2 0.4924885598077698\n"
     ]
    },
    {
     "name": "stderr",
     "output_type": "stream",
     "text": [
      "C:\\Python36\\lib\\site-packages\\hdbscan-0.8.25-py3.6-win-amd64.egg\\hdbscan\\hdbscan_.py:1052: RuntimeWarning: invalid value encountered in double_scalars\n",
      "  self._outlier_scores = outlier_scores(self._condensed_tree)\n"
     ]
    },
    {
     "name": "stdout",
     "output_type": "stream",
     "text": [
      "10 10 0.48449844940721115\n"
     ]
    },
    {
     "name": "stderr",
     "output_type": "stream",
     "text": [
      "C:\\Python36\\lib\\site-packages\\hdbscan-0.8.25-py3.6-win-amd64.egg\\hdbscan\\hdbscan_.py:1052: RuntimeWarning: invalid value encountered in double_scalars\n",
      "  self._outlier_scores = outlier_scores(self._condensed_tree)\n"
     ]
    },
    {
     "name": "stdout",
     "output_type": "stream",
     "text": [
      "10 15 0.4720786440475467\n"
     ]
    },
    {
     "name": "stderr",
     "output_type": "stream",
     "text": [
      "C:\\Python36\\lib\\site-packages\\hdbscan-0.8.25-py3.6-win-amd64.egg\\hdbscan\\hdbscan_.py:1052: RuntimeWarning: invalid value encountered in double_scalars\n",
      "  self._outlier_scores = outlier_scores(self._condensed_tree)\n"
     ]
    },
    {
     "name": "stdout",
     "output_type": "stream",
     "text": [
      "10 50 0.46393288214567846\n"
     ]
    },
    {
     "name": "stderr",
     "output_type": "stream",
     "text": [
      "C:\\Python36\\lib\\site-packages\\hdbscan-0.8.25-py3.6-win-amd64.egg\\hdbscan\\hdbscan_.py:1052: RuntimeWarning: invalid value encountered in double_scalars\n",
      "  self._outlier_scores = outlier_scores(self._condensed_tree)\n"
     ]
    },
    {
     "name": "stdout",
     "output_type": "stream",
     "text": [
      "10 75 0.4740972212924044\n"
     ]
    },
    {
     "name": "stderr",
     "output_type": "stream",
     "text": [
      "C:\\Python36\\lib\\site-packages\\hdbscan-0.8.25-py3.6-win-amd64.egg\\hdbscan\\hdbscan_.py:1052: RuntimeWarning: invalid value encountered in double_scalars\n",
      "  self._outlier_scores = outlier_scores(self._condensed_tree)\n"
     ]
    },
    {
     "name": "stdout",
     "output_type": "stream",
     "text": [
      "10 100 0.47622548842900386\n"
     ]
    },
    {
     "name": "stderr",
     "output_type": "stream",
     "text": [
      "C:\\Python36\\lib\\site-packages\\hdbscan-0.8.25-py3.6-win-amd64.egg\\hdbscan\\hdbscan_.py:1052: RuntimeWarning: invalid value encountered in double_scalars\n",
      "  self._outlier_scores = outlier_scores(self._condensed_tree)\n"
     ]
    },
    {
     "name": "stdout",
     "output_type": "stream",
     "text": [
      "15 2 0.48748698398115603\n"
     ]
    },
    {
     "name": "stderr",
     "output_type": "stream",
     "text": [
      "C:\\Python36\\lib\\site-packages\\hdbscan-0.8.25-py3.6-win-amd64.egg\\hdbscan\\hdbscan_.py:1052: RuntimeWarning: invalid value encountered in double_scalars\n",
      "  self._outlier_scores = outlier_scores(self._condensed_tree)\n"
     ]
    },
    {
     "name": "stdout",
     "output_type": "stream",
     "text": [
      "15 10 0.4819270454074954\n"
     ]
    },
    {
     "name": "stderr",
     "output_type": "stream",
     "text": [
      "C:\\Python36\\lib\\site-packages\\hdbscan-0.8.25-py3.6-win-amd64.egg\\hdbscan\\hdbscan_.py:1052: RuntimeWarning: invalid value encountered in double_scalars\n",
      "  self._outlier_scores = outlier_scores(self._condensed_tree)\n"
     ]
    },
    {
     "name": "stdout",
     "output_type": "stream",
     "text": [
      "15 15 0.47695714060596195\n"
     ]
    },
    {
     "name": "stderr",
     "output_type": "stream",
     "text": [
      "C:\\Python36\\lib\\site-packages\\hdbscan-0.8.25-py3.6-win-amd64.egg\\hdbscan\\hdbscan_.py:1052: RuntimeWarning: invalid value encountered in double_scalars\n",
      "  self._outlier_scores = outlier_scores(self._condensed_tree)\n"
     ]
    },
    {
     "name": "stdout",
     "output_type": "stream",
     "text": [
      "15 50 0.4633817290628776\n"
     ]
    },
    {
     "name": "stderr",
     "output_type": "stream",
     "text": [
      "C:\\Python36\\lib\\site-packages\\hdbscan-0.8.25-py3.6-win-amd64.egg\\hdbscan\\hdbscan_.py:1052: RuntimeWarning: invalid value encountered in double_scalars\n",
      "  self._outlier_scores = outlier_scores(self._condensed_tree)\n"
     ]
    },
    {
     "name": "stdout",
     "output_type": "stream",
     "text": [
      "15 75 0.46440575887380936\n"
     ]
    },
    {
     "name": "stderr",
     "output_type": "stream",
     "text": [
      "C:\\Python36\\lib\\site-packages\\hdbscan-0.8.25-py3.6-win-amd64.egg\\hdbscan\\hdbscan_.py:1052: RuntimeWarning: invalid value encountered in double_scalars\n",
      "  self._outlier_scores = outlier_scores(self._condensed_tree)\n"
     ]
    },
    {
     "name": "stdout",
     "output_type": "stream",
     "text": [
      "15 100 0.46797042286740703\n"
     ]
    },
    {
     "name": "stderr",
     "output_type": "stream",
     "text": [
      "C:\\Python36\\lib\\site-packages\\hdbscan-0.8.25-py3.6-win-amd64.egg\\hdbscan\\hdbscan_.py:1052: RuntimeWarning: invalid value encountered in double_scalars\n",
      "  self._outlier_scores = outlier_scores(self._condensed_tree)\n"
     ]
    },
    {
     "name": "stdout",
     "output_type": "stream",
     "text": [
      "50 2 0.4948153501991412\n"
     ]
    },
    {
     "name": "stderr",
     "output_type": "stream",
     "text": [
      "C:\\Python36\\lib\\site-packages\\hdbscan-0.8.25-py3.6-win-amd64.egg\\hdbscan\\hdbscan_.py:1052: RuntimeWarning: invalid value encountered in double_scalars\n",
      "  self._outlier_scores = outlier_scores(self._condensed_tree)\n"
     ]
    },
    {
     "name": "stdout",
     "output_type": "stream",
     "text": [
      "50 10 0.4728692609785163\n"
     ]
    },
    {
     "name": "stderr",
     "output_type": "stream",
     "text": [
      "C:\\Python36\\lib\\site-packages\\hdbscan-0.8.25-py3.6-win-amd64.egg\\hdbscan\\hdbscan_.py:1052: RuntimeWarning: invalid value encountered in double_scalars\n",
      "  self._outlier_scores = outlier_scores(self._condensed_tree)\n"
     ]
    },
    {
     "name": "stdout",
     "output_type": "stream",
     "text": [
      "50 15 0.48502720103324787\n"
     ]
    },
    {
     "name": "stderr",
     "output_type": "stream",
     "text": [
      "C:\\Python36\\lib\\site-packages\\hdbscan-0.8.25-py3.6-win-amd64.egg\\hdbscan\\hdbscan_.py:1052: RuntimeWarning: invalid value encountered in double_scalars\n",
      "  self._outlier_scores = outlier_scores(self._condensed_tree)\n"
     ]
    },
    {
     "name": "stdout",
     "output_type": "stream",
     "text": [
      "50 50 0.4896148648857423\n"
     ]
    },
    {
     "name": "stderr",
     "output_type": "stream",
     "text": [
      "C:\\Python36\\lib\\site-packages\\hdbscan-0.8.25-py3.6-win-amd64.egg\\hdbscan\\hdbscan_.py:1052: RuntimeWarning: invalid value encountered in double_scalars\n",
      "  self._outlier_scores = outlier_scores(self._condensed_tree)\n"
     ]
    },
    {
     "name": "stdout",
     "output_type": "stream",
     "text": [
      "50 75 0.4861539685596841\n"
     ]
    },
    {
     "name": "stderr",
     "output_type": "stream",
     "text": [
      "C:\\Python36\\lib\\site-packages\\hdbscan-0.8.25-py3.6-win-amd64.egg\\hdbscan\\hdbscan_.py:1052: RuntimeWarning: invalid value encountered in double_scalars\n",
      "  self._outlier_scores = outlier_scores(self._condensed_tree)\n"
     ]
    },
    {
     "name": "stdout",
     "output_type": "stream",
     "text": [
      "50 100 0.47558382831111556\n"
     ]
    },
    {
     "name": "stderr",
     "output_type": "stream",
     "text": [
      "C:\\Python36\\lib\\site-packages\\hdbscan-0.8.25-py3.6-win-amd64.egg\\hdbscan\\hdbscan_.py:1052: RuntimeWarning: invalid value encountered in double_scalars\n",
      "  self._outlier_scores = outlier_scores(self._condensed_tree)\n"
     ]
    },
    {
     "name": "stdout",
     "output_type": "stream",
     "text": [
      "75 2 0.5006092166287816\n"
     ]
    },
    {
     "name": "stderr",
     "output_type": "stream",
     "text": [
      "C:\\Python36\\lib\\site-packages\\hdbscan-0.8.25-py3.6-win-amd64.egg\\hdbscan\\hdbscan_.py:1052: RuntimeWarning: invalid value encountered in double_scalars\n",
      "  self._outlier_scores = outlier_scores(self._condensed_tree)\n"
     ]
    },
    {
     "name": "stdout",
     "output_type": "stream",
     "text": [
      "75 10 0.49976581465601144\n"
     ]
    },
    {
     "name": "stderr",
     "output_type": "stream",
     "text": [
      "C:\\Python36\\lib\\site-packages\\hdbscan-0.8.25-py3.6-win-amd64.egg\\hdbscan\\hdbscan_.py:1052: RuntimeWarning: invalid value encountered in double_scalars\n",
      "  self._outlier_scores = outlier_scores(self._condensed_tree)\n"
     ]
    },
    {
     "name": "stdout",
     "output_type": "stream",
     "text": [
      "75 15 0.5063311151599671\n"
     ]
    },
    {
     "name": "stderr",
     "output_type": "stream",
     "text": [
      "C:\\Python36\\lib\\site-packages\\hdbscan-0.8.25-py3.6-win-amd64.egg\\hdbscan\\hdbscan_.py:1052: RuntimeWarning: invalid value encountered in double_scalars\n",
      "  self._outlier_scores = outlier_scores(self._condensed_tree)\n"
     ]
    },
    {
     "name": "stdout",
     "output_type": "stream",
     "text": [
      "75 50 0.4809187223650996\n"
     ]
    },
    {
     "name": "stderr",
     "output_type": "stream",
     "text": [
      "C:\\Python36\\lib\\site-packages\\hdbscan-0.8.25-py3.6-win-amd64.egg\\hdbscan\\hdbscan_.py:1052: RuntimeWarning: invalid value encountered in double_scalars\n",
      "  self._outlier_scores = outlier_scores(self._condensed_tree)\n"
     ]
    },
    {
     "name": "stdout",
     "output_type": "stream",
     "text": [
      "75 75 0.5273515349890157\n"
     ]
    },
    {
     "name": "stderr",
     "output_type": "stream",
     "text": [
      "C:\\Python36\\lib\\site-packages\\hdbscan-0.8.25-py3.6-win-amd64.egg\\hdbscan\\hdbscan_.py:1052: RuntimeWarning: invalid value encountered in double_scalars\n",
      "  self._outlier_scores = outlier_scores(self._condensed_tree)\n"
     ]
    },
    {
     "name": "stdout",
     "output_type": "stream",
     "text": [
      "75 100 0.48547523016853106\n"
     ]
    },
    {
     "name": "stderr",
     "output_type": "stream",
     "text": [
      "C:\\Python36\\lib\\site-packages\\hdbscan-0.8.25-py3.6-win-amd64.egg\\hdbscan\\hdbscan_.py:1052: RuntimeWarning: invalid value encountered in double_scalars\n",
      "  self._outlier_scores = outlier_scores(self._condensed_tree)\n"
     ]
    },
    {
     "name": "stdout",
     "output_type": "stream",
     "text": [
      "100 2 0.5091231863832102\n"
     ]
    },
    {
     "name": "stderr",
     "output_type": "stream",
     "text": [
      "C:\\Python36\\lib\\site-packages\\hdbscan-0.8.25-py3.6-win-amd64.egg\\hdbscan\\hdbscan_.py:1052: RuntimeWarning: invalid value encountered in double_scalars\n",
      "  self._outlier_scores = outlier_scores(self._condensed_tree)\n"
     ]
    },
    {
     "name": "stdout",
     "output_type": "stream",
     "text": [
      "100 10 0.49839443352123086\n"
     ]
    },
    {
     "name": "stderr",
     "output_type": "stream",
     "text": [
      "C:\\Python36\\lib\\site-packages\\hdbscan-0.8.25-py3.6-win-amd64.egg\\hdbscan\\hdbscan_.py:1052: RuntimeWarning: invalid value encountered in double_scalars\n",
      "  self._outlier_scores = outlier_scores(self._condensed_tree)\n"
     ]
    },
    {
     "name": "stdout",
     "output_type": "stream",
     "text": [
      "100 15 0.517309245158453\n"
     ]
    },
    {
     "name": "stderr",
     "output_type": "stream",
     "text": [
      "C:\\Python36\\lib\\site-packages\\hdbscan-0.8.25-py3.6-win-amd64.egg\\hdbscan\\hdbscan_.py:1052: RuntimeWarning: invalid value encountered in double_scalars\n",
      "  self._outlier_scores = outlier_scores(self._condensed_tree)\n"
     ]
    },
    {
     "name": "stdout",
     "output_type": "stream",
     "text": [
      "100 50 0.5014624031458855\n"
     ]
    },
    {
     "name": "stderr",
     "output_type": "stream",
     "text": [
      "C:\\Python36\\lib\\site-packages\\hdbscan-0.8.25-py3.6-win-amd64.egg\\hdbscan\\hdbscan_.py:1052: RuntimeWarning: invalid value encountered in double_scalars\n",
      "  self._outlier_scores = outlier_scores(self._condensed_tree)\n"
     ]
    },
    {
     "name": "stdout",
     "output_type": "stream",
     "text": [
      "100 75 0.5136411997293286\n",
      "100 100 0.521937205884322\n",
      "Best params:  [75, 75]  with AUC:  0.5273515349890157\n"
     ]
    },
    {
     "name": "stderr",
     "output_type": "stream",
     "text": [
      "C:\\Python36\\lib\\site-packages\\hdbscan-0.8.25-py3.6-win-amd64.egg\\hdbscan\\hdbscan_.py:1052: RuntimeWarning: invalid value encountered in double_scalars\n",
      "  self._outlier_scores = outlier_scores(self._condensed_tree)\n"
     ]
    }
   ],
   "source": [
    "#Parameter Evaluation with Outlier Scores\n",
    "X_total = np.vstack((Xpo,Xpo_test))\n",
    "y_total = np.hstack((np.zeros((n,)),y_test))\n",
    "print(X_total.shape, y_total.shape)\n",
    "paramsAUCtotal = {}\n",
    "for minClusterSize in [2,10,15,50,75,100]:\n",
    "    for minSamples in [2,10,15,50,75,100]:\n",
    "        clusterer = hdbscan.HDBSCAN(min_cluster_size=minClusterSize, min_samples=minSamples)\n",
    "        clusterer.fit(X_total)\n",
    "        y_pred = np.nan_to_num(clusterer.outlier_scores_)\n",
    "        auc = roc_auc_score(y_total, y_pred)\n",
    "        print(minClusterSize, minSamples, auc)\n",
    "        paramsAUCtotal[auc] = [minClusterSize, minSamples]\n",
    "\n",
    "maxAuctotal = max(paramsAUCtotal.keys())\n",
    "bestParamsAuctotal = paramsAUCtotal[maxAuctotal]\n",
    "print(\"Best params: \", bestParamsAuctotal, \" with AUC: \",maxAuctotal)"
   ]
  },
  {
   "cell_type": "code",
   "execution_count": 30,
   "metadata": {},
   "outputs": [
    {
     "name": "stdout",
     "output_type": "stream",
     "text": [
      "(5952, 1141) (5952,)\n"
     ]
    },
    {
     "name": "stderr",
     "output_type": "stream",
     "text": [
      "C:\\Python36\\lib\\site-packages\\hdbscan-0.8.25-py3.6-win-amd64.egg\\hdbscan\\hdbscan_.py:1052: RuntimeWarning: invalid value encountered in double_scalars\n",
      "  self._outlier_scores = outlier_scores(self._condensed_tree)\n"
     ]
    },
    {
     "name": "stdout",
     "output_type": "stream",
     "text": [
      "2 2 0.49777131253997503\n"
     ]
    },
    {
     "name": "stderr",
     "output_type": "stream",
     "text": [
      "C:\\Python36\\lib\\site-packages\\hdbscan-0.8.25-py3.6-win-amd64.egg\\hdbscan\\hdbscan_.py:1052: RuntimeWarning: invalid value encountered in double_scalars\n",
      "  self._outlier_scores = outlier_scores(self._condensed_tree)\n"
     ]
    },
    {
     "name": "stdout",
     "output_type": "stream",
     "text": [
      "2 10 0.4887448129040631\n"
     ]
    },
    {
     "name": "stderr",
     "output_type": "stream",
     "text": [
      "C:\\Python36\\lib\\site-packages\\hdbscan-0.8.25-py3.6-win-amd64.egg\\hdbscan\\hdbscan_.py:1052: RuntimeWarning: invalid value encountered in double_scalars\n",
      "  self._outlier_scores = outlier_scores(self._condensed_tree)\n"
     ]
    },
    {
     "name": "stdout",
     "output_type": "stream",
     "text": [
      "2 15 0.48641673507264765\n"
     ]
    },
    {
     "name": "stderr",
     "output_type": "stream",
     "text": [
      "C:\\Python36\\lib\\site-packages\\hdbscan-0.8.25-py3.6-win-amd64.egg\\hdbscan\\hdbscan_.py:1052: RuntimeWarning: invalid value encountered in double_scalars\n",
      "  self._outlier_scores = outlier_scores(self._condensed_tree)\n"
     ]
    },
    {
     "name": "stdout",
     "output_type": "stream",
     "text": [
      "2 50 0.4869113695375206\n"
     ]
    },
    {
     "name": "stderr",
     "output_type": "stream",
     "text": [
      "C:\\Python36\\lib\\site-packages\\hdbscan-0.8.25-py3.6-win-amd64.egg\\hdbscan\\hdbscan_.py:1052: RuntimeWarning: invalid value encountered in double_scalars\n",
      "  self._outlier_scores = outlier_scores(self._condensed_tree)\n"
     ]
    },
    {
     "name": "stdout",
     "output_type": "stream",
     "text": [
      "2 75 0.4916974279007827\n"
     ]
    },
    {
     "name": "stderr",
     "output_type": "stream",
     "text": [
      "C:\\Python36\\lib\\site-packages\\hdbscan-0.8.25-py3.6-win-amd64.egg\\hdbscan\\hdbscan_.py:1052: RuntimeWarning: invalid value encountered in double_scalars\n",
      "  self._outlier_scores = outlier_scores(self._condensed_tree)\n"
     ]
    },
    {
     "name": "stdout",
     "output_type": "stream",
     "text": [
      "2 100 0.49359266838943316\n"
     ]
    },
    {
     "name": "stderr",
     "output_type": "stream",
     "text": [
      "C:\\Python36\\lib\\site-packages\\hdbscan-0.8.25-py3.6-win-amd64.egg\\hdbscan\\hdbscan_.py:1052: RuntimeWarning: invalid value encountered in double_scalars\n",
      "  self._outlier_scores = outlier_scores(self._condensed_tree)\n"
     ]
    },
    {
     "name": "stdout",
     "output_type": "stream",
     "text": [
      "10 2 0.4924885598077698\n"
     ]
    },
    {
     "name": "stderr",
     "output_type": "stream",
     "text": [
      "C:\\Python36\\lib\\site-packages\\hdbscan-0.8.25-py3.6-win-amd64.egg\\hdbscan\\hdbscan_.py:1052: RuntimeWarning: invalid value encountered in double_scalars\n",
      "  self._outlier_scores = outlier_scores(self._condensed_tree)\n"
     ]
    },
    {
     "name": "stdout",
     "output_type": "stream",
     "text": [
      "10 10 0.48449844940721115\n"
     ]
    },
    {
     "name": "stderr",
     "output_type": "stream",
     "text": [
      "C:\\Python36\\lib\\site-packages\\hdbscan-0.8.25-py3.6-win-amd64.egg\\hdbscan\\hdbscan_.py:1052: RuntimeWarning: invalid value encountered in double_scalars\n",
      "  self._outlier_scores = outlier_scores(self._condensed_tree)\n"
     ]
    },
    {
     "name": "stdout",
     "output_type": "stream",
     "text": [
      "10 15 0.4720786440475467\n"
     ]
    },
    {
     "name": "stderr",
     "output_type": "stream",
     "text": [
      "C:\\Python36\\lib\\site-packages\\hdbscan-0.8.25-py3.6-win-amd64.egg\\hdbscan\\hdbscan_.py:1052: RuntimeWarning: invalid value encountered in double_scalars\n",
      "  self._outlier_scores = outlier_scores(self._condensed_tree)\n"
     ]
    },
    {
     "name": "stdout",
     "output_type": "stream",
     "text": [
      "10 50 0.46393288214567846\n"
     ]
    },
    {
     "name": "stderr",
     "output_type": "stream",
     "text": [
      "C:\\Python36\\lib\\site-packages\\hdbscan-0.8.25-py3.6-win-amd64.egg\\hdbscan\\hdbscan_.py:1052: RuntimeWarning: invalid value encountered in double_scalars\n",
      "  self._outlier_scores = outlier_scores(self._condensed_tree)\n"
     ]
    },
    {
     "name": "stdout",
     "output_type": "stream",
     "text": [
      "10 75 0.4740972212924044\n"
     ]
    },
    {
     "name": "stderr",
     "output_type": "stream",
     "text": [
      "C:\\Python36\\lib\\site-packages\\hdbscan-0.8.25-py3.6-win-amd64.egg\\hdbscan\\hdbscan_.py:1052: RuntimeWarning: invalid value encountered in double_scalars\n",
      "  self._outlier_scores = outlier_scores(self._condensed_tree)\n"
     ]
    },
    {
     "name": "stdout",
     "output_type": "stream",
     "text": [
      "10 100 0.47622548842900386\n"
     ]
    },
    {
     "name": "stderr",
     "output_type": "stream",
     "text": [
      "C:\\Python36\\lib\\site-packages\\hdbscan-0.8.25-py3.6-win-amd64.egg\\hdbscan\\hdbscan_.py:1052: RuntimeWarning: invalid value encountered in double_scalars\n",
      "  self._outlier_scores = outlier_scores(self._condensed_tree)\n"
     ]
    },
    {
     "name": "stdout",
     "output_type": "stream",
     "text": [
      "15 2 0.48748698398115603\n"
     ]
    },
    {
     "name": "stderr",
     "output_type": "stream",
     "text": [
      "C:\\Python36\\lib\\site-packages\\hdbscan-0.8.25-py3.6-win-amd64.egg\\hdbscan\\hdbscan_.py:1052: RuntimeWarning: invalid value encountered in double_scalars\n",
      "  self._outlier_scores = outlier_scores(self._condensed_tree)\n"
     ]
    },
    {
     "name": "stdout",
     "output_type": "stream",
     "text": [
      "15 10 0.4819270454074954\n"
     ]
    },
    {
     "name": "stderr",
     "output_type": "stream",
     "text": [
      "C:\\Python36\\lib\\site-packages\\hdbscan-0.8.25-py3.6-win-amd64.egg\\hdbscan\\hdbscan_.py:1052: RuntimeWarning: invalid value encountered in double_scalars\n",
      "  self._outlier_scores = outlier_scores(self._condensed_tree)\n"
     ]
    },
    {
     "name": "stdout",
     "output_type": "stream",
     "text": [
      "15 15 0.47695714060596195\n"
     ]
    },
    {
     "name": "stderr",
     "output_type": "stream",
     "text": [
      "C:\\Python36\\lib\\site-packages\\hdbscan-0.8.25-py3.6-win-amd64.egg\\hdbscan\\hdbscan_.py:1052: RuntimeWarning: invalid value encountered in double_scalars\n",
      "  self._outlier_scores = outlier_scores(self._condensed_tree)\n"
     ]
    },
    {
     "name": "stdout",
     "output_type": "stream",
     "text": [
      "15 50 0.4633817290628776\n"
     ]
    },
    {
     "name": "stderr",
     "output_type": "stream",
     "text": [
      "C:\\Python36\\lib\\site-packages\\hdbscan-0.8.25-py3.6-win-amd64.egg\\hdbscan\\hdbscan_.py:1052: RuntimeWarning: invalid value encountered in double_scalars\n",
      "  self._outlier_scores = outlier_scores(self._condensed_tree)\n"
     ]
    },
    {
     "name": "stdout",
     "output_type": "stream",
     "text": [
      "15 75 0.46440575887380936\n"
     ]
    },
    {
     "name": "stderr",
     "output_type": "stream",
     "text": [
      "C:\\Python36\\lib\\site-packages\\hdbscan-0.8.25-py3.6-win-amd64.egg\\hdbscan\\hdbscan_.py:1052: RuntimeWarning: invalid value encountered in double_scalars\n",
      "  self._outlier_scores = outlier_scores(self._condensed_tree)\n"
     ]
    },
    {
     "name": "stdout",
     "output_type": "stream",
     "text": [
      "15 100 0.46797042286740703\n"
     ]
    },
    {
     "name": "stderr",
     "output_type": "stream",
     "text": [
      "C:\\Python36\\lib\\site-packages\\hdbscan-0.8.25-py3.6-win-amd64.egg\\hdbscan\\hdbscan_.py:1052: RuntimeWarning: invalid value encountered in double_scalars\n",
      "  self._outlier_scores = outlier_scores(self._condensed_tree)\n"
     ]
    },
    {
     "name": "stdout",
     "output_type": "stream",
     "text": [
      "50 2 0.4948153501991412\n"
     ]
    },
    {
     "name": "stderr",
     "output_type": "stream",
     "text": [
      "C:\\Python36\\lib\\site-packages\\hdbscan-0.8.25-py3.6-win-amd64.egg\\hdbscan\\hdbscan_.py:1052: RuntimeWarning: invalid value encountered in double_scalars\n",
      "  self._outlier_scores = outlier_scores(self._condensed_tree)\n"
     ]
    },
    {
     "name": "stdout",
     "output_type": "stream",
     "text": [
      "50 10 0.4728692609785163\n"
     ]
    },
    {
     "name": "stderr",
     "output_type": "stream",
     "text": [
      "C:\\Python36\\lib\\site-packages\\hdbscan-0.8.25-py3.6-win-amd64.egg\\hdbscan\\hdbscan_.py:1052: RuntimeWarning: invalid value encountered in double_scalars\n",
      "  self._outlier_scores = outlier_scores(self._condensed_tree)\n"
     ]
    },
    {
     "name": "stdout",
     "output_type": "stream",
     "text": [
      "50 15 0.48502720103324787\n"
     ]
    },
    {
     "name": "stderr",
     "output_type": "stream",
     "text": [
      "C:\\Python36\\lib\\site-packages\\hdbscan-0.8.25-py3.6-win-amd64.egg\\hdbscan\\hdbscan_.py:1052: RuntimeWarning: invalid value encountered in double_scalars\n",
      "  self._outlier_scores = outlier_scores(self._condensed_tree)\n"
     ]
    },
    {
     "name": "stdout",
     "output_type": "stream",
     "text": [
      "50 50 0.4896148648857423\n"
     ]
    },
    {
     "name": "stderr",
     "output_type": "stream",
     "text": [
      "C:\\Python36\\lib\\site-packages\\hdbscan-0.8.25-py3.6-win-amd64.egg\\hdbscan\\hdbscan_.py:1052: RuntimeWarning: invalid value encountered in double_scalars\n",
      "  self._outlier_scores = outlier_scores(self._condensed_tree)\n"
     ]
    },
    {
     "name": "stdout",
     "output_type": "stream",
     "text": [
      "50 75 0.4861539685596841\n"
     ]
    },
    {
     "name": "stderr",
     "output_type": "stream",
     "text": [
      "C:\\Python36\\lib\\site-packages\\hdbscan-0.8.25-py3.6-win-amd64.egg\\hdbscan\\hdbscan_.py:1052: RuntimeWarning: invalid value encountered in double_scalars\n",
      "  self._outlier_scores = outlier_scores(self._condensed_tree)\n"
     ]
    },
    {
     "name": "stdout",
     "output_type": "stream",
     "text": [
      "50 100 0.47558382831111556\n"
     ]
    },
    {
     "name": "stderr",
     "output_type": "stream",
     "text": [
      "C:\\Python36\\lib\\site-packages\\hdbscan-0.8.25-py3.6-win-amd64.egg\\hdbscan\\hdbscan_.py:1052: RuntimeWarning: invalid value encountered in double_scalars\n",
      "  self._outlier_scores = outlier_scores(self._condensed_tree)\n"
     ]
    },
    {
     "name": "stdout",
     "output_type": "stream",
     "text": [
      "75 2 0.5006092166287816\n"
     ]
    },
    {
     "name": "stderr",
     "output_type": "stream",
     "text": [
      "C:\\Python36\\lib\\site-packages\\hdbscan-0.8.25-py3.6-win-amd64.egg\\hdbscan\\hdbscan_.py:1052: RuntimeWarning: invalid value encountered in double_scalars\n",
      "  self._outlier_scores = outlier_scores(self._condensed_tree)\n"
     ]
    },
    {
     "name": "stdout",
     "output_type": "stream",
     "text": [
      "75 10 0.49976581465601144\n"
     ]
    },
    {
     "name": "stderr",
     "output_type": "stream",
     "text": [
      "C:\\Python36\\lib\\site-packages\\hdbscan-0.8.25-py3.6-win-amd64.egg\\hdbscan\\hdbscan_.py:1052: RuntimeWarning: invalid value encountered in double_scalars\n",
      "  self._outlier_scores = outlier_scores(self._condensed_tree)\n"
     ]
    },
    {
     "name": "stdout",
     "output_type": "stream",
     "text": [
      "75 15 0.5063311151599671\n"
     ]
    },
    {
     "name": "stderr",
     "output_type": "stream",
     "text": [
      "C:\\Python36\\lib\\site-packages\\hdbscan-0.8.25-py3.6-win-amd64.egg\\hdbscan\\hdbscan_.py:1052: RuntimeWarning: invalid value encountered in double_scalars\n",
      "  self._outlier_scores = outlier_scores(self._condensed_tree)\n"
     ]
    },
    {
     "name": "stdout",
     "output_type": "stream",
     "text": [
      "75 50 0.4809187223650996\n"
     ]
    },
    {
     "name": "stderr",
     "output_type": "stream",
     "text": [
      "C:\\Python36\\lib\\site-packages\\hdbscan-0.8.25-py3.6-win-amd64.egg\\hdbscan\\hdbscan_.py:1052: RuntimeWarning: invalid value encountered in double_scalars\n",
      "  self._outlier_scores = outlier_scores(self._condensed_tree)\n"
     ]
    },
    {
     "name": "stdout",
     "output_type": "stream",
     "text": [
      "75 75 0.5273515349890157\n"
     ]
    },
    {
     "name": "stderr",
     "output_type": "stream",
     "text": [
      "C:\\Python36\\lib\\site-packages\\hdbscan-0.8.25-py3.6-win-amd64.egg\\hdbscan\\hdbscan_.py:1052: RuntimeWarning: invalid value encountered in double_scalars\n",
      "  self._outlier_scores = outlier_scores(self._condensed_tree)\n"
     ]
    },
    {
     "name": "stdout",
     "output_type": "stream",
     "text": [
      "75 100 0.48547523016853106\n"
     ]
    },
    {
     "name": "stderr",
     "output_type": "stream",
     "text": [
      "C:\\Python36\\lib\\site-packages\\hdbscan-0.8.25-py3.6-win-amd64.egg\\hdbscan\\hdbscan_.py:1052: RuntimeWarning: invalid value encountered in double_scalars\n",
      "  self._outlier_scores = outlier_scores(self._condensed_tree)\n"
     ]
    },
    {
     "name": "stdout",
     "output_type": "stream",
     "text": [
      "100 2 0.5091231863832102\n"
     ]
    },
    {
     "name": "stderr",
     "output_type": "stream",
     "text": [
      "C:\\Python36\\lib\\site-packages\\hdbscan-0.8.25-py3.6-win-amd64.egg\\hdbscan\\hdbscan_.py:1052: RuntimeWarning: invalid value encountered in double_scalars\n",
      "  self._outlier_scores = outlier_scores(self._condensed_tree)\n"
     ]
    },
    {
     "name": "stdout",
     "output_type": "stream",
     "text": [
      "100 10 0.49839443352123086\n"
     ]
    },
    {
     "name": "stderr",
     "output_type": "stream",
     "text": [
      "C:\\Python36\\lib\\site-packages\\hdbscan-0.8.25-py3.6-win-amd64.egg\\hdbscan\\hdbscan_.py:1052: RuntimeWarning: invalid value encountered in double_scalars\n",
      "  self._outlier_scores = outlier_scores(self._condensed_tree)\n"
     ]
    },
    {
     "name": "stdout",
     "output_type": "stream",
     "text": [
      "100 15 0.517309245158453\n"
     ]
    },
    {
     "name": "stderr",
     "output_type": "stream",
     "text": [
      "C:\\Python36\\lib\\site-packages\\hdbscan-0.8.25-py3.6-win-amd64.egg\\hdbscan\\hdbscan_.py:1052: RuntimeWarning: invalid value encountered in double_scalars\n",
      "  self._outlier_scores = outlier_scores(self._condensed_tree)\n"
     ]
    },
    {
     "name": "stdout",
     "output_type": "stream",
     "text": [
      "100 50 0.5014624031458855\n"
     ]
    },
    {
     "name": "stderr",
     "output_type": "stream",
     "text": [
      "C:\\Python36\\lib\\site-packages\\hdbscan-0.8.25-py3.6-win-amd64.egg\\hdbscan\\hdbscan_.py:1052: RuntimeWarning: invalid value encountered in double_scalars\n",
      "  self._outlier_scores = outlier_scores(self._condensed_tree)\n"
     ]
    },
    {
     "name": "stdout",
     "output_type": "stream",
     "text": [
      "100 75 0.5136411997293286\n",
      "100 100 0.521937205884322\n",
      "Best params:  [75, 75]  with AUC:  0.5273515349890157\n"
     ]
    },
    {
     "name": "stderr",
     "output_type": "stream",
     "text": [
      "C:\\Python36\\lib\\site-packages\\hdbscan-0.8.25-py3.6-win-amd64.egg\\hdbscan\\hdbscan_.py:1052: RuntimeWarning: invalid value encountered in double_scalars\n",
      "  self._outlier_scores = outlier_scores(self._condensed_tree)\n"
     ]
    }
   ],
   "source": [
    "#Parameter Evaluation with Outlier Scores\n",
    "X_total = np.vstack((Xpbow,Xpbow_test))\n",
    "y_total = np.hstack((np.zeros((n,)),y_test))\n",
    "print(X_total.shape, y_total.shape)\n",
    "paramsAUCtotal = {}\n",
    "for minClusterSize in [2,10,15,50,75,100]:\n",
    "    for minSamples in [2,10,15,50,75,100]:\n",
    "        clusterer = hdbscan.HDBSCAN(min_cluster_size=minClusterSize, min_samples=minSamples)\n",
    "        clusterer.fit(X_total)\n",
    "        y_pred = np.nan_to_num(clusterer.outlier_scores_)\n",
    "        auc = roc_auc_score(y_total, y_pred)\n",
    "        print(minClusterSize, minSamples, auc)\n",
    "        paramsAUCtotal[auc] = [minClusterSize, minSamples]\n",
    "\n",
    "maxAuctotal = max(paramsAUCtotal.keys())\n",
    "bestParamsAuctotal = paramsAUCtotal[maxAuctotal]\n",
    "print(\"Best params: \", bestParamsAuctotal, \" with AUC: \",maxAuctotal)"
   ]
  },
  {
   "cell_type": "markdown",
   "metadata": {},
   "source": [
    "# Use Strength from Cluster Predictions"
   ]
  },
  {
   "cell_type": "code",
   "execution_count": 31,
   "metadata": {},
   "outputs": [
    {
     "name": "stdout",
     "output_type": "stream",
     "text": [
      "2 2 0.5079251851203862\n",
      "2 10 0.553762099077357\n",
      "2 15 0.5768301060550705\n",
      "2 50 0.5403186797919036\n",
      "2 75 0.5685395686785055\n",
      "2 100 0.5745299305830713\n",
      "10 2 0.5664413661086897\n",
      "10 10 0.5592571771135113\n",
      "10 15 0.5579199106688004\n",
      "10 50 0.5105115960747789\n",
      "10 75 0.5504842203845977\n",
      "10 100 0.5372157585175961\n",
      "15 2 0.5609675145240386\n",
      "15 10 0.5540566964951913\n",
      "15 15 0.5299801114581671\n",
      "15 50 0.501811323861619\n",
      "15 75 0.5561786984197228\n",
      "15 100 0.5307371882284532\n",
      "50 2 0.5196351108663995\n",
      "50 10 0.5126792670313328\n",
      "50 15 0.5011565199940308\n",
      "50 50 0.49252700261921545\n",
      "50 75 0.5547230784272357\n",
      "50 100 0.4719617872414875\n",
      "75 2 0.5295382153314157\n",
      "75 10 0.4933085219700205\n",
      "75 15 0.4960557393751962\n",
      "75 50 0.4833931962147448\n",
      "75 75 0.5913637930768321\n",
      "75 100 0.5514014603798635\n",
      "100 2 0.5174905960387582\n",
      "100 10 0.5121344547760802\n",
      "100 15 0.49779888130168315\n",
      "100 50 0.461241786006494\n",
      "100 75 0.5891504530882558\n",
      "100 100 0.5695346389959502\n",
      "Best params:  [75, 75]  with AUC:  0.5913637930768321\n"
     ]
    }
   ],
   "source": [
    "#Parameter Evaluation with Strengths, Patterns only\n",
    "paramsAUC = {}\n",
    "for minClusterSize in [2,10,15,50,75,100]:\n",
    "    for minSamples in [2,10,15,50,75,100]:\n",
    "        clusterer = hdbscan.HDBSCAN(min_cluster_size=minClusterSize, min_samples=minSamples, prediction_data=True)\n",
    "        clusterer.fit(Xpo)\n",
    "        labels, strengths = hdbscan.approximate_predict(clusterer, Xpo_test)\n",
    "        maxStrength = max(strengths)\n",
    "        y_pred = np.array([maxStrength - s for s in strengths])\n",
    "        auc = roc_auc_score(y_test, y_pred)\n",
    "        print(minClusterSize, minSamples, auc)\n",
    "        paramsAUC[auc] = [minClusterSize, minSamples]\n",
    "\n",
    "maxAuc = max(paramsAUC.keys())\n",
    "bestParamsAuc = paramsAUC[maxAuc]\n",
    "print(\"Best params: \", bestParamsAuc, \" with AUC: \",maxAuc)"
   ]
  },
  {
   "cell_type": "code",
   "execution_count": 32,
   "metadata": {},
   "outputs": [
    {
     "name": "stdout",
     "output_type": "stream",
     "text": [
      "2 2 0.5079251851203862\n",
      "2 10 0.553762099077357\n",
      "2 15 0.5768301060550705\n",
      "2 50 0.5403186797919036\n",
      "2 75 0.5685395686785055\n",
      "2 100 0.5745299305830713\n",
      "10 2 0.5664413661086897\n",
      "10 10 0.5592571771135113\n",
      "10 15 0.5579199106688004\n",
      "10 50 0.5105115960747789\n",
      "10 75 0.5504842203845977\n",
      "10 100 0.5372157585175961\n",
      "15 2 0.5609675145240386\n",
      "15 10 0.5540566964951913\n",
      "15 15 0.5299801114581671\n",
      "15 50 0.501811323861619\n",
      "15 75 0.5561786984197228\n",
      "15 100 0.5307371882284532\n",
      "50 2 0.5196351108663995\n",
      "50 10 0.5126792670313328\n",
      "50 15 0.5011565199940308\n",
      "50 50 0.49252700261921545\n",
      "50 75 0.5547230784272357\n",
      "50 100 0.4719617872414875\n",
      "75 2 0.5295382153314157\n",
      "75 10 0.4933085219700205\n",
      "75 15 0.4960557393751962\n",
      "75 50 0.4833931962147448\n",
      "75 75 0.5913637930768321\n",
      "75 100 0.5514014603798635\n",
      "100 2 0.5174905960387582\n",
      "100 10 0.5121344547760802\n",
      "100 15 0.49779888130168315\n",
      "100 50 0.461241786006494\n",
      "100 75 0.5891504530882558\n",
      "100 100 0.5695346389959502\n",
      "Best params:  [75, 75]  with AUC:  0.5913637930768321\n"
     ]
    }
   ],
   "source": [
    "#Parameter Evaluation with Strengths, Patterns and Bag of Words\n",
    "paramsAUC = {}\n",
    "for minClusterSize in [2,10,15,50,75,100]:\n",
    "    for minSamples in [2,10,15,50,75,100]:\n",
    "        clusterer = hdbscan.HDBSCAN(min_cluster_size=minClusterSize, min_samples=minSamples, prediction_data=True)\n",
    "        clusterer.fit(Xpbow)\n",
    "        labels, strengths = hdbscan.approximate_predict(clusterer, Xpbow_test)\n",
    "        maxStrength = max(strengths)\n",
    "        y_pred = np.array([maxStrength - s for s in strengths])\n",
    "        auc = roc_auc_score(y_test, y_pred)\n",
    "        print(minClusterSize, minSamples, auc)\n",
    "        paramsAUC[auc] = [minClusterSize, minSamples]\n",
    "\n",
    "maxAuc = max(paramsAUC.keys())\n",
    "bestParamsAuc = paramsAUC[maxAuc]\n",
    "print(\"Best params: \", bestParamsAuc, \" with AUC: \",maxAuc)"
   ]
  },
  {
   "cell_type": "markdown",
   "metadata": {},
   "source": [
    "# Calculate More Error Measures for Best Model"
   ]
  },
  {
   "cell_type": "code",
   "execution_count": 68,
   "metadata": {},
   "outputs": [],
   "source": [
    "def calcSensAndSpec(cm):\n",
    "    tn = cm[0,0]\n",
    "    fn = cm[1,0]\n",
    "    fp = cm[0,1]\n",
    "    tp = cm[1,1]\n",
    "    print(cm)\n",
    "    TPR = float(tp)/float(tp + fn)\n",
    "    TNR = float(tn)/float(tn + fp)\n",
    "    return TPR, TNR"
   ]
  },
  {
   "cell_type": "code",
   "execution_count": 70,
   "metadata": {},
   "outputs": [],
   "source": [
    "# Patterns and Bag of Words\n",
    "clusterer = hdbscan.HDBSCAN(min_cluster_size=75, min_samples=75, prediction_data=True)\n",
    "clusterer.fit(Xpbow)\n",
    "labels, strengths = hdbscan.approximate_predict(clusterer, Xpbow_test)\n",
    "y_pred_bin = np.where(labels == -1, labels, 0.)*-1\n",
    "cm = confusion_matrix(y_test, y_pred_bin)\n",
    "print(calcSensAndSpec(cm))"
   ]
  },
  {
   "cell_type": "code",
   "execution_count": 76,
   "metadata": {},
   "outputs": [
    {
     "name": "stdout",
     "output_type": "stream",
     "text": [
      "[[700 342]\n",
      " [220 526]]\n",
      "(0.7050938337801609, 0.6717850287907869)\n"
     ]
    }
   ],
   "source": [
    "# Patterns only\n",
    "clusterer = hdbscan.HDBSCAN(min_cluster_size=75, min_samples=75, prediction_data=True)\n",
    "clusterer.fit(Xpo)\n",
    "labels, strengths = hdbscan.approximate_predict(clusterer, Xpo_test)\n",
    "y_pred_bin = np.where(labels == -1, labels, 0.)*-1\n",
    "cm = confusion_matrix(y_test, y_pred_bin)\n",
    "print(calcSensAndSpec(cm))"
   ]
  },
  {
   "cell_type": "code",
   "execution_count": 80,
   "metadata": {},
   "outputs": [
    {
     "name": "stdout",
     "output_type": "stream",
     "text": [
      "[[596 446]\n",
      " [ 26 720]]\n",
      "(0.9651474530831099, 0.5719769673704415)\n"
     ]
    }
   ],
   "source": [
    "# Bag of Words\n",
    "clusterer = hdbscan.HDBSCAN(min_cluster_size=2, min_samples=10, prediction_data=True)\n",
    "clusterer.fit(X)\n",
    "labels, strengths = hdbscan.approximate_predict(clusterer, X_test)\n",
    "y_pred_bin = np.where(labels == -1, labels, 0.)*-1\n",
    "cm = confusion_matrix(y_test, y_pred_bin)\n",
    "print(calcSensAndSpec(cm))"
   ]
  },
  {
   "cell_type": "code",
   "execution_count": null,
   "metadata": {},
   "outputs": [],
   "source": []
  }
 ],
 "metadata": {
  "kernelspec": {
   "display_name": "Python 3",
   "language": "python",
   "name": "python3"
  },
  "language_info": {
   "codemirror_mode": {
    "name": "ipython",
    "version": 3
   },
   "file_extension": ".py",
   "mimetype": "text/x-python",
   "name": "python",
   "nbconvert_exporter": "python",
   "pygments_lexer": "ipython3",
   "version": "3.6.3"
  }
 },
 "nbformat": 4,
 "nbformat_minor": 2
}
